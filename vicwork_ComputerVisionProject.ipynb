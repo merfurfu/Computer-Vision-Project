{
  "nbformat": 4,
  "nbformat_minor": 0,
  "metadata": {
    "colab": {
      "provenance": [],
      "collapsed_sections": [
        "rr-j-jCmaHId",
        "FwuL7tp_c59K",
        "0nK8ESRbyqkG",
        "ccznpw0J3tFD",
        "4HRFHFb--UOt",
        "20FkwvkzGoad",
        "ZPXbQaQzXesB",
        "Dw3A8VLmy4oX",
        "XuBklwIG7KwU",
        "tY62xRrgAi4J",
        "-hPW0QQiHNyf",
        "L_Mh_cBry6E_",
        "-g5gWdMs70zr",
        "tIUxfJcnF8Nt"
      ],
      "gpuType": "T4",
      "toc_visible": true,
      "include_colab_link": true
    },
    "kernelspec": {
      "name": "python3",
      "display_name": "Python 3"
    },
    "language_info": {
      "name": "python"
    },
    "accelerator": "GPU"
  },
  "cells": [
    {
      "cell_type": "markdown",
      "metadata": {
        "id": "view-in-github",
        "colab_type": "text"
      },
      "source": [
        "<a href=\"https://colab.research.google.com/github/merfurfu/Computer-Vision-Project/blob/vic_work/vicwork_ComputerVisionProject.ipynb\" target=\"_parent\"><img src=\"https://colab.research.google.com/assets/colab-badge.svg\" alt=\"Open In Colab\"/></a>"
      ]
    },
    {
      "cell_type": "markdown",
      "source": [
        "<center><h1> <b> Object Classification Using YOLO <b> </h1></center>"
      ],
      "metadata": {
        "id": "URt4Q-TNmNDj"
      }
    },
    {
      "cell_type": "markdown",
      "source": [
        "Classifying red onions and apples based on images taken at supermarkets."
      ],
      "metadata": {
        "id": "4F9xyDZAxvQE"
      }
    },
    {
      "cell_type": "markdown",
      "source": [
        "## Importing required libraries"
      ],
      "metadata": {
        "id": "rr-j-jCmaHId"
      }
    },
    {
      "cell_type": "code",
      "source": [
        "import numpy as np # linear algebra\n",
        "import pandas as pd # data processing, CSV file I/O (e.g. pd.read_csv)\n",
        "import matplotlib.pyplot as plt\n",
        "import tensorflow as tf\n",
        "from tensorflow import keras\n",
        "import cv2\n",
        "import seaborn as sns\n",
        "import glob\n",
        "import xml.etree.ElementTree as ET\n",
        "from PIL import Image\n",
        "import os\n",
        "import shutil"
      ],
      "metadata": {
        "id": "3_BT3x6HaFLn"
      },
      "execution_count": 1,
      "outputs": []
    },
    {
      "cell_type": "code",
      "source": [
        "from google.colab import drive\n",
        "drive.mount('/content/drive')"
      ],
      "metadata": {
        "id": "WDs9-Xj9J3Ky",
        "outputId": "97da4894-abb3-4195-818d-7e3d9c72ed4e",
        "colab": {
          "base_uri": "https://localhost:8080/"
        }
      },
      "execution_count": 2,
      "outputs": [
        {
          "output_type": "stream",
          "name": "stdout",
          "text": [
            "Mounted at /content/drive\n"
          ]
        }
      ]
    },
    {
      "cell_type": "code",
      "source": [
        "%cd \"/content/drive/MyDrive/Colab Notebooks/Computer Vision\"\n",
        "!ls"
      ],
      "metadata": {
        "colab": {
          "base_uri": "https://localhost:8080/"
        },
        "id": "8JQAbnxUR3if",
        "outputId": "27b8b6c1-db93-4aef-ba0f-73d4c4cd438c"
      },
      "execution_count": 3,
      "outputs": [
        {
          "output_type": "stream",
          "name": "stdout",
          "text": [
            "/content/drive/MyDrive/Colab Notebooks/Computer Vision\n",
            "'Computer Vision Idea & Plan.gdoc'   Photos\t    prediction3.jpg   yolov8n-cls.pt\n",
            "'Oranges (just in case)'\t     predict1.jpg   runs\t      yolov8s-cls.pt\n"
          ]
        }
      ]
    },
    {
      "cell_type": "markdown",
      "source": [
        "First install and import"
      ],
      "metadata": {
        "id": "KATk9OckmMW4"
      }
    },
    {
      "cell_type": "code",
      "source": [
        "%pip install ultralytics\n",
        "import ultralytics\n",
        "ultralytics.checks()"
      ],
      "metadata": {
        "colab": {
          "base_uri": "https://localhost:8080/"
        },
        "id": "VFjZ0ujPrnes",
        "outputId": "89ca6ea6-42ed-4462-8a38-3f9474138d83"
      },
      "execution_count": 4,
      "outputs": [
        {
          "output_type": "stream",
          "name": "stdout",
          "text": [
            "Ultralytics YOLOv8.1.27 🚀 Python-3.10.12 torch-2.2.1+cu121 CPU (Intel Xeon 2.20GHz)\n",
            "Setup complete ✅ (2 CPUs, 12.7 GB RAM, 28.9/107.7 GB disk)\n"
          ]
        }
      ]
    },
    {
      "cell_type": "code",
      "source": [
        "from ultralytics import YOLO"
      ],
      "metadata": {
        "id": "kGO4mlYbrrKY"
      },
      "execution_count": 5,
      "outputs": []
    },
    {
      "cell_type": "markdown",
      "source": [
        "## Loading Pre-Trained YOLO"
      ],
      "metadata": {
        "id": "FwuL7tp_c59K"
      }
    },
    {
      "cell_type": "markdown",
      "source": [
        "### Model 1  (nano, epochs=2, patience=5, batch=8, lr0=0.0005, imgsz=640)(train2)"
      ],
      "metadata": {
        "id": "0nK8ESRbyqkG"
      }
    },
    {
      "cell_type": "code",
      "source": [
        "model = YOLO('yolov8n-cls.pt')  # load a pretrained YOLOv8n classification model"
      ],
      "metadata": {
        "id": "tJ_2xqxJLEw4"
      },
      "execution_count": 7,
      "outputs": []
    },
    {
      "cell_type": "markdown",
      "source": [
        "Please look at [Yolo train Docs](https://docs.ultralytics.com/modes/train/#train-settings) for hyperparameters for model tuning and configuration, e.g. lr0, imgsz, model etc."
      ],
      "metadata": {
        "id": "FAWGrHwsOc8y"
      }
    },
    {
      "cell_type": "code",
      "source": [
        "#Training model 1 with our own data\n",
        "model.train(data=\"/content/drive/MyDrive/Colab Notebooks/Computer Vision/Photos\",epochs=2,patience=5,batch=8, lr0=0.0005,imgsz=640)"
      ],
      "metadata": {
        "id": "oaQGxW5ZvczW",
        "colab": {
          "base_uri": "https://localhost:8080/"
        },
        "outputId": "6f2b150d-ce67-403d-ca8e-afbfd00b10b6"
      },
      "execution_count": 8,
      "outputs": [
        {
          "output_type": "stream",
          "name": "stdout",
          "text": [
            "Ultralytics YOLOv8.1.27 🚀 Python-3.10.12 torch-2.2.1+cu121 CUDA:0 (Tesla T4, 15102MiB)\n",
            "\u001b[34m\u001b[1mengine/trainer: \u001b[0mtask=classify, mode=train, model=yolov8n-cls.pt, data=/content/drive/MyDrive/Colab Notebooks/Computer Vision/Photos, epochs=2, time=None, patience=5, batch=8, imgsz=640, save=True, save_period=-1, cache=False, device=None, workers=8, project=None, name=train2, exist_ok=False, pretrained=True, optimizer=auto, verbose=True, seed=0, deterministic=True, single_cls=False, rect=False, cos_lr=False, close_mosaic=10, resume=False, amp=True, fraction=1.0, profile=False, freeze=None, multi_scale=False, overlap_mask=True, mask_ratio=4, dropout=0.0, val=True, split=val, save_json=False, save_hybrid=False, conf=None, iou=0.7, max_det=300, half=False, dnn=False, plots=True, source=None, vid_stride=1, stream_buffer=False, visualize=False, augment=False, agnostic_nms=False, classes=None, retina_masks=False, embed=None, show=False, save_frames=False, save_txt=False, save_conf=False, save_crop=False, show_labels=True, show_conf=True, show_boxes=True, line_width=None, format=torchscript, keras=False, optimize=False, int8=False, dynamic=False, simplify=False, opset=None, workspace=4, nms=False, lr0=0.0005, lrf=0.01, momentum=0.937, weight_decay=0.0005, warmup_epochs=3.0, warmup_momentum=0.8, warmup_bias_lr=0.1, box=7.5, cls=0.5, dfl=1.5, pose=12.0, kobj=1.0, label_smoothing=0.0, nbs=64, hsv_h=0.015, hsv_s=0.7, hsv_v=0.4, degrees=0.0, translate=0.1, scale=0.5, shear=0.0, perspective=0.0, flipud=0.0, fliplr=0.5, mosaic=1.0, mixup=0.0, copy_paste=0.0, auto_augment=randaugment, erasing=0.4, crop_fraction=1.0, cfg=None, tracker=botsort.yaml, save_dir=runs/classify/train2\n",
            "\u001b[34m\u001b[1mtrain:\u001b[0m /content/drive/MyDrive/Colab Notebooks/Computer Vision/Photos/train... found 42 images in 2 classes ✅ \n",
            "\u001b[34m\u001b[1mval:\u001b[0m /content/drive/MyDrive/Colab Notebooks/Computer Vision/Photos/val... found 40 images in 2 classes ✅ \n",
            "\u001b[34m\u001b[1mtest:\u001b[0m None...\n",
            "Overriding model.yaml nc=1000 with nc=2\n",
            "\n",
            "                   from  n    params  module                                       arguments                     \n",
            "  0                  -1  1       464  ultralytics.nn.modules.conv.Conv             [3, 16, 3, 2]                 \n",
            "  1                  -1  1      4672  ultralytics.nn.modules.conv.Conv             [16, 32, 3, 2]                \n",
            "  2                  -1  1      7360  ultralytics.nn.modules.block.C2f             [32, 32, 1, True]             \n",
            "  3                  -1  1     18560  ultralytics.nn.modules.conv.Conv             [32, 64, 3, 2]                \n",
            "  4                  -1  2     49664  ultralytics.nn.modules.block.C2f             [64, 64, 2, True]             \n",
            "  5                  -1  1     73984  ultralytics.nn.modules.conv.Conv             [64, 128, 3, 2]               \n",
            "  6                  -1  2    197632  ultralytics.nn.modules.block.C2f             [128, 128, 2, True]           \n",
            "  7                  -1  1    295424  ultralytics.nn.modules.conv.Conv             [128, 256, 3, 2]              \n",
            "  8                  -1  1    460288  ultralytics.nn.modules.block.C2f             [256, 256, 1, True]           \n",
            "  9                  -1  1    332802  ultralytics.nn.modules.head.Classify         [256, 2]                      \n",
            "YOLOv8n-cls summary: 99 layers, 1440850 parameters, 1440850 gradients, 3.4 GFLOPs\n",
            "Transferred 156/158 items from pretrained weights\n",
            "\u001b[34m\u001b[1mTensorBoard: \u001b[0mStart with 'tensorboard --logdir runs/classify/train2', view at http://localhost:6006/\n",
            "\u001b[34m\u001b[1mAMP: \u001b[0mrunning Automatic Mixed Precision (AMP) checks with YOLOv8n...\n",
            "\u001b[34m\u001b[1mAMP: \u001b[0mchecks passed ✅\n"
          ]
        },
        {
          "output_type": "stream",
          "name": "stderr",
          "text": [
            "\u001b[34m\u001b[1mtrain: \u001b[0mScanning /content/drive/MyDrive/Colab Notebooks/Computer Vision/Photos/train... 34 images, 0 corrupt: 100%|██████████| 34/34 [00:35<00:00,  1.05s/it]"
          ]
        },
        {
          "output_type": "stream",
          "name": "stdout",
          "text": [
            "\u001b[34m\u001b[1mtrain: \u001b[0mWARNING ⚠️ /content/drive/MyDrive/Colab Notebooks/Computer Vision/Photos/train/Apples/20240313_135836.jpg: corrupt JPEG restored and saved\n",
            "\u001b[34m\u001b[1mtrain: \u001b[0mWARNING ⚠️ /content/drive/MyDrive/Colab Notebooks/Computer Vision/Photos/train/Apples/20240313_140123.jpg: corrupt JPEG restored and saved\n",
            "\u001b[34m\u001b[1mtrain: \u001b[0mWARNING ⚠️ /content/drive/MyDrive/Colab Notebooks/Computer Vision/Photos/train/Apples/20240313_140200.jpg: corrupt JPEG restored and saved\n",
            "\u001b[34m\u001b[1mtrain: \u001b[0mWARNING ⚠️ /content/drive/MyDrive/Colab Notebooks/Computer Vision/Photos/train/Apples/20240313_140230.jpg: corrupt JPEG restored and saved\n",
            "\u001b[34m\u001b[1mtrain: \u001b[0mWARNING ⚠️ /content/drive/MyDrive/Colab Notebooks/Computer Vision/Photos/train/Apples/20240313_140248.jpg: corrupt JPEG restored and saved\n",
            "\u001b[34m\u001b[1mtrain: \u001b[0mWARNING ⚠️ /content/drive/MyDrive/Colab Notebooks/Computer Vision/Photos/train/Apples/20240313_140349.jpg: corrupt JPEG restored and saved\n",
            "\u001b[34m\u001b[1mtrain: \u001b[0mWARNING ⚠️ /content/drive/MyDrive/Colab Notebooks/Computer Vision/Photos/train/Apples/20240313_140812.jpg: corrupt JPEG restored and saved\n",
            "\u001b[34m\u001b[1mtrain: \u001b[0mWARNING ⚠️ /content/drive/MyDrive/Colab Notebooks/Computer Vision/Photos/train/Apples/20240313_140849.jpg: corrupt JPEG restored and saved\n",
            "\u001b[34m\u001b[1mtrain: \u001b[0mWARNING ⚠️ /content/drive/MyDrive/Colab Notebooks/Computer Vision/Photos/train/Apples/20240313_141125.jpg: corrupt JPEG restored and saved\n",
            "\u001b[34m\u001b[1mtrain: \u001b[0mWARNING ⚠️ /content/drive/MyDrive/Colab Notebooks/Computer Vision/Photos/train/Apples/20240313_141132.jpg: corrupt JPEG restored and saved\n",
            "\u001b[34m\u001b[1mtrain: \u001b[0mWARNING ⚠️ /content/drive/MyDrive/Colab Notebooks/Computer Vision/Photos/train/Apples/20240313_141149.jpg: corrupt JPEG restored and saved\n",
            "\u001b[34m\u001b[1mtrain: \u001b[0mWARNING ⚠️ /content/drive/MyDrive/Colab Notebooks/Computer Vision/Photos/train/Red Onion/20240313_140433.jpg: corrupt JPEG restored and saved\n",
            "\u001b[34m\u001b[1mtrain: \u001b[0mWARNING ⚠️ /content/drive/MyDrive/Colab Notebooks/Computer Vision/Photos/train/Red Onion/20240313_140448.jpg: corrupt JPEG restored and saved\n",
            "\u001b[34m\u001b[1mtrain: \u001b[0mWARNING ⚠️ /content/drive/MyDrive/Colab Notebooks/Computer Vision/Photos/train/Red Onion/20240313_140500.jpg: corrupt JPEG restored and saved\n",
            "\u001b[34m\u001b[1mtrain: \u001b[0mWARNING ⚠️ /content/drive/MyDrive/Colab Notebooks/Computer Vision/Photos/train/Red Onion/20240313_140609.jpg: corrupt JPEG restored and saved\n",
            "\u001b[34m\u001b[1mtrain: \u001b[0mWARNING ⚠️ /content/drive/MyDrive/Colab Notebooks/Computer Vision/Photos/train/Red Onion/20240313_140615.jpg: corrupt JPEG restored and saved\n",
            "\u001b[34m\u001b[1mtrain: \u001b[0mWARNING ⚠️ /content/drive/MyDrive/Colab Notebooks/Computer Vision/Photos/train/Red Onion/20240313_140942.jpg: corrupt JPEG restored and saved\n",
            "\u001b[34m\u001b[1mtrain: \u001b[0mWARNING ⚠️ /content/drive/MyDrive/Colab Notebooks/Computer Vision/Photos/train/Red Onion/20240313_141028.jpg: corrupt JPEG restored and saved\n",
            "\u001b[34m\u001b[1mtrain: \u001b[0mWARNING ⚠️ /content/drive/MyDrive/Colab Notebooks/Computer Vision/Photos/train/Red Onion/20240313_141036.jpg: corrupt JPEG restored and saved\n",
            "\u001b[34m\u001b[1mtrain: \u001b[0mNew cache created: /content/drive/MyDrive/Colab Notebooks/Computer Vision/Photos/train.cache\n"
          ]
        },
        {
          "output_type": "stream",
          "name": "stderr",
          "text": [
            "\n",
            "\u001b[34m\u001b[1mval: \u001b[0mScanning /content/drive/MyDrive/Colab Notebooks/Computer Vision/Photos/val... 36 images, 0 corrupt: 100%|██████████| 36/36 [00:31<00:00,  1.14it/s]"
          ]
        },
        {
          "output_type": "stream",
          "name": "stdout",
          "text": [
            "\u001b[34m\u001b[1mval: \u001b[0mWARNING ⚠️ /content/drive/MyDrive/Colab Notebooks/Computer Vision/Photos/val/Apples/20240313_135641.jpg: corrupt JPEG restored and saved\n",
            "\u001b[34m\u001b[1mval: \u001b[0mWARNING ⚠️ /content/drive/MyDrive/Colab Notebooks/Computer Vision/Photos/val/Apples/20240313_140215.jpg: corrupt JPEG restored and saved\n",
            "\u001b[34m\u001b[1mval: \u001b[0mWARNING ⚠️ /content/drive/MyDrive/Colab Notebooks/Computer Vision/Photos/val/Apples/20240313_140243.jpg: corrupt JPEG restored and saved\n",
            "\u001b[34m\u001b[1mval: \u001b[0mWARNING ⚠️ /content/drive/MyDrive/Colab Notebooks/Computer Vision/Photos/val/Apples/20240313_140304.jpg: corrupt JPEG restored and saved\n",
            "\u001b[34m\u001b[1mval: \u001b[0mWARNING ⚠️ /content/drive/MyDrive/Colab Notebooks/Computer Vision/Photos/val/Apples/20240313_140314.jpg: corrupt JPEG restored and saved\n",
            "\u001b[34m\u001b[1mval: \u001b[0mWARNING ⚠️ /content/drive/MyDrive/Colab Notebooks/Computer Vision/Photos/val/Apples/20240313_140328.jpg: corrupt JPEG restored and saved\n",
            "\u001b[34m\u001b[1mval: \u001b[0mWARNING ⚠️ /content/drive/MyDrive/Colab Notebooks/Computer Vision/Photos/val/Apples/20240313_140337.jpg: corrupt JPEG restored and saved\n",
            "\u001b[34m\u001b[1mval: \u001b[0mWARNING ⚠️ /content/drive/MyDrive/Colab Notebooks/Computer Vision/Photos/val/Apples/20240313_140356.jpg: corrupt JPEG restored and saved\n",
            "\u001b[34m\u001b[1mval: \u001b[0mWARNING ⚠️ /content/drive/MyDrive/Colab Notebooks/Computer Vision/Photos/val/Apples/20240313_140821.jpg: corrupt JPEG restored and saved\n",
            "\u001b[34m\u001b[1mval: \u001b[0mWARNING ⚠️ /content/drive/MyDrive/Colab Notebooks/Computer Vision/Photos/val/Apples/20240313_140841.jpg: corrupt JPEG restored and saved\n",
            "\u001b[34m\u001b[1mval: \u001b[0mWARNING ⚠️ /content/drive/MyDrive/Colab Notebooks/Computer Vision/Photos/val/Apples/20240313_140905.jpg: corrupt JPEG restored and saved\n",
            "\u001b[34m\u001b[1mval: \u001b[0mWARNING ⚠️ /content/drive/MyDrive/Colab Notebooks/Computer Vision/Photos/val/Apples/20240313_140917.jpg: corrupt JPEG restored and saved\n",
            "\u001b[34m\u001b[1mval: \u001b[0mWARNING ⚠️ /content/drive/MyDrive/Colab Notebooks/Computer Vision/Photos/val/Apples/20240313_141129.jpg: corrupt JPEG restored and saved\n",
            "\u001b[34m\u001b[1mval: \u001b[0mWARNING ⚠️ /content/drive/MyDrive/Colab Notebooks/Computer Vision/Photos/val/Apples/20240313_141145.jpg: corrupt JPEG restored and saved\n",
            "\u001b[34m\u001b[1mval: \u001b[0mWARNING ⚠️ /content/drive/MyDrive/Colab Notebooks/Computer Vision/Photos/val/Apples/20240313_141208.jpg: corrupt JPEG restored and saved\n",
            "\u001b[34m\u001b[1mval: \u001b[0mWARNING ⚠️ /content/drive/MyDrive/Colab Notebooks/Computer Vision/Photos/val/Red Onion/20240313_140418.jpg: corrupt JPEG restored and saved\n",
            "\u001b[34m\u001b[1mval: \u001b[0mWARNING ⚠️ /content/drive/MyDrive/Colab Notebooks/Computer Vision/Photos/val/Red Onion/20240313_140439.jpg: corrupt JPEG restored and saved\n",
            "\u001b[34m\u001b[1mval: \u001b[0mWARNING ⚠️ /content/drive/MyDrive/Colab Notebooks/Computer Vision/Photos/val/Red Onion/20240313_140454.jpg: corrupt JPEG restored and saved\n",
            "\u001b[34m\u001b[1mval: \u001b[0mWARNING ⚠️ /content/drive/MyDrive/Colab Notebooks/Computer Vision/Photos/val/Red Onion/20240313_140609.jpg: corrupt JPEG restored and saved\n",
            "\u001b[34m\u001b[1mval: \u001b[0mWARNING ⚠️ /content/drive/MyDrive/Colab Notebooks/Computer Vision/Photos/val/Red Onion/20240313_141025.jpg: corrupt JPEG restored and saved\n",
            "\u001b[34m\u001b[1mval: \u001b[0mWARNING ⚠️ /content/drive/MyDrive/Colab Notebooks/Computer Vision/Photos/val/Red Onion/20240313_141049.jpg: corrupt JPEG restored and saved\n",
            "\u001b[34m\u001b[1mval: \u001b[0mNew cache created: /content/drive/MyDrive/Colab Notebooks/Computer Vision/Photos/val.cache\n"
          ]
        },
        {
          "output_type": "stream",
          "name": "stderr",
          "text": [
            "\n"
          ]
        },
        {
          "output_type": "stream",
          "name": "stdout",
          "text": [
            "\u001b[34m\u001b[1moptimizer:\u001b[0m 'optimizer=auto' found, ignoring 'lr0=0.0005' and 'momentum=0.937' and determining best 'optimizer', 'lr0' and 'momentum' automatically... \n",
            "\u001b[34m\u001b[1moptimizer:\u001b[0m AdamW(lr=0.000714, momentum=0.9) with parameter groups 26 weight(decay=0.0), 27 weight(decay=0.0005), 27 bias(decay=0.0)\n",
            "\u001b[34m\u001b[1mTensorBoard: \u001b[0mmodel graph visualization added ✅\n",
            "Image sizes 640 train, 640 val\n",
            "Using 2 dataloader workers\n",
            "Logging results to \u001b[1mruns/classify/train2\u001b[0m\n",
            "Starting training for 2 epochs...\n",
            "\n",
            "      Epoch    GPU_mem       loss  Instances       Size\n"
          ]
        },
        {
          "output_type": "stream",
          "name": "stderr",
          "text": [
            "        1/2     0.942G     0.6716          8        640:  80%|████████  | 4/5 [00:03<00:00,  1.56it/s]"
          ]
        },
        {
          "output_type": "stream",
          "name": "stdout",
          "text": [
            "Downloading https://ultralytics.com/assets/Arial.ttf to '/root/.config/Ultralytics/Arial.ttf'...\n"
          ]
        },
        {
          "output_type": "stream",
          "name": "stderr",
          "text": [
            "        1/2     0.952G     0.7185          2        640: 100%|██████████| 5/5 [00:05<00:00,  1.07s/it]\n",
            "               classes   top1_acc   top5_acc:   0%|          | 0/3 [00:00<?, ?it/s]\n",
            "  0%|          | 0.00/755k [00:00<?, ?B/s]\u001b[A\n",
            " 20%|██        | 152k/755k [00:00<00:00, 1.21MB/s]\u001b[A\n",
            " 36%|███▌      | 272k/755k [00:00<00:00, 773kB/s] \u001b[A\n",
            " 48%|████▊     | 360k/755k [00:00<00:00, 649kB/s]\u001b[A\n",
            " 57%|█████▋    | 432k/755k [00:00<00:00, 644kB/s]\u001b[A\n",
            " 67%|██████▋   | 504k/755k [00:00<00:00, 593kB/s]\u001b[A\n",
            "100%|██████████| 755k/755k [00:00<00:00, 810kB/s]\n",
            "               classes   top1_acc   top5_acc: 100%|██████████| 3/3 [00:24<00:00,  8.15s/it]"
          ]
        },
        {
          "output_type": "stream",
          "name": "stdout",
          "text": [
            "                   all      0.639          1\n"
          ]
        },
        {
          "output_type": "stream",
          "name": "stderr",
          "text": [
            "\n"
          ]
        },
        {
          "output_type": "stream",
          "name": "stdout",
          "text": [
            "\n",
            "      Epoch    GPU_mem       loss  Instances       Size\n"
          ]
        },
        {
          "output_type": "stream",
          "name": "stderr",
          "text": [
            "        2/2     0.826G     0.6764          2        640: 100%|██████████| 5/5 [00:03<00:00,  1.64it/s]\n",
            "               classes   top1_acc   top5_acc: 100%|██████████| 3/3 [00:19<00:00,  6.37s/it]"
          ]
        },
        {
          "output_type": "stream",
          "name": "stdout",
          "text": [
            "                   all      0.639          1\n"
          ]
        },
        {
          "output_type": "stream",
          "name": "stderr",
          "text": [
            "\n"
          ]
        },
        {
          "output_type": "stream",
          "name": "stdout",
          "text": [
            "\n",
            "2 epochs completed in 0.016 hours.\n",
            "Optimizer stripped from runs/classify/train2/weights/last.pt, 3.0MB\n",
            "Optimizer stripped from runs/classify/train2/weights/best.pt, 3.0MB\n",
            "\n",
            "Validating runs/classify/train2/weights/best.pt...\n",
            "Ultralytics YOLOv8.1.27 🚀 Python-3.10.12 torch-2.2.1+cu121 CUDA:0 (Tesla T4, 15102MiB)\n",
            "YOLOv8n-cls summary (fused): 73 layers, 1437442 parameters, 0 gradients, 3.3 GFLOPs\n",
            "\u001b[34m\u001b[1mtrain:\u001b[0m /content/drive/MyDrive/Colab Notebooks/Computer Vision/Photos/train... found 42 images in 2 classes ✅ \n",
            "\u001b[34m\u001b[1mval:\u001b[0m /content/drive/MyDrive/Colab Notebooks/Computer Vision/Photos/val... found 40 images in 2 classes ✅ \n",
            "\u001b[34m\u001b[1mtest:\u001b[0m None...\n"
          ]
        },
        {
          "output_type": "stream",
          "name": "stderr",
          "text": [
            "               classes   top1_acc   top5_acc: 100%|██████████| 3/3 [00:17<00:00,  5.87s/it]\n"
          ]
        },
        {
          "output_type": "stream",
          "name": "stdout",
          "text": [
            "                   all      0.639          1\n",
            "Speed: 0.6ms preprocess, 2.3ms inference, 0.0ms loss, 0.0ms postprocess per image\n",
            "Results saved to \u001b[1mruns/classify/train2\u001b[0m\n",
            "Results saved to \u001b[1mruns/classify/train2\u001b[0m\n"
          ]
        },
        {
          "output_type": "execute_result",
          "data": {
            "text/plain": [
              "ultralytics.utils.metrics.ClassifyMetrics object with attributes:\n",
              "\n",
              "confusion_matrix: <ultralytics.utils.metrics.ConfusionMatrix object at 0x7c21ddf38a00>\n",
              "curves: []\n",
              "curves_results: []\n",
              "fitness: 0.8194444477558136\n",
              "keys: ['metrics/accuracy_top1', 'metrics/accuracy_top5']\n",
              "results_dict: {'metrics/accuracy_top1': 0.6388888955116272, 'metrics/accuracy_top5': 1.0, 'fitness': 0.8194444477558136}\n",
              "save_dir: PosixPath('runs/classify/train2')\n",
              "speed: {'preprocess': 0.6126628981696235, 'inference': 2.3024876912434897, 'loss': 0.0016027026706271702, 'postprocess': 0.0011391109890407985}\n",
              "task: 'classify'\n",
              "top1: 0.6388888955116272\n",
              "top5: 1.0"
            ]
          },
          "metadata": {},
          "execution_count": 8
        }
      ]
    },
    {
      "cell_type": "markdown",
      "source": [
        "### Model 2 (n, epochs=15,patience=5,batch=8, lr0=0.0005,imgsz=640) (train3)"
      ],
      "metadata": {
        "id": "ccznpw0J3tFD"
      }
    },
    {
      "cell_type": "code",
      "source": [
        "model2 = YOLO('yolov8n-cls.pt')  # load a pretrained YOLOv8n classification model"
      ],
      "metadata": {
        "id": "FC6y7Iyu3wXK"
      },
      "execution_count": 24,
      "outputs": []
    },
    {
      "cell_type": "code",
      "source": [
        "#Training model 1 with our own data\n",
        "model2.train(data=\"/content/drive/MyDrive/Colab Notebooks/Computer Vision/Photos\",epochs=15,patience=5,batch=8, lr0=0.0005,imgsz=640)"
      ],
      "metadata": {
        "colab": {
          "base_uri": "https://localhost:8080/"
        },
        "id": "fJWlpIqG4pjh",
        "outputId": "b9a10f44-dc60-41f4-bd59-f63d13cb1592"
      },
      "execution_count": 25,
      "outputs": [
        {
          "output_type": "stream",
          "name": "stdout",
          "text": [
            "Ultralytics YOLOv8.1.27 🚀 Python-3.10.12 torch-2.2.1+cu121 CUDA:0 (Tesla T4, 15102MiB)\n",
            "\u001b[34m\u001b[1mengine/trainer: \u001b[0mtask=classify, mode=train, model=yolov8n-cls.pt, data=/content/drive/MyDrive/Colab Notebooks/Computer Vision/Photos, epochs=15, time=None, patience=5, batch=8, imgsz=640, save=True, save_period=-1, cache=False, device=None, workers=8, project=None, name=train3, exist_ok=False, pretrained=True, optimizer=auto, verbose=True, seed=0, deterministic=True, single_cls=False, rect=False, cos_lr=False, close_mosaic=10, resume=False, amp=True, fraction=1.0, profile=False, freeze=None, multi_scale=False, overlap_mask=True, mask_ratio=4, dropout=0.0, val=True, split=val, save_json=False, save_hybrid=False, conf=None, iou=0.7, max_det=300, half=False, dnn=False, plots=True, source=None, vid_stride=1, stream_buffer=False, visualize=False, augment=False, agnostic_nms=False, classes=None, retina_masks=False, embed=None, show=False, save_frames=False, save_txt=False, save_conf=False, save_crop=False, show_labels=True, show_conf=True, show_boxes=True, line_width=None, format=torchscript, keras=False, optimize=False, int8=False, dynamic=False, simplify=False, opset=None, workspace=4, nms=False, lr0=0.0005, lrf=0.01, momentum=0.937, weight_decay=0.0005, warmup_epochs=3.0, warmup_momentum=0.8, warmup_bias_lr=0.1, box=7.5, cls=0.5, dfl=1.5, pose=12.0, kobj=1.0, label_smoothing=0.0, nbs=64, hsv_h=0.015, hsv_s=0.7, hsv_v=0.4, degrees=0.0, translate=0.1, scale=0.5, shear=0.0, perspective=0.0, flipud=0.0, fliplr=0.5, mosaic=1.0, mixup=0.0, copy_paste=0.0, auto_augment=randaugment, erasing=0.4, crop_fraction=1.0, cfg=None, tracker=botsort.yaml, save_dir=runs/classify/train3\n",
            "\u001b[34m\u001b[1mtrain:\u001b[0m /content/drive/MyDrive/Colab Notebooks/Computer Vision/Photos/train... found 42 images in 2 classes ✅ \n",
            "\u001b[34m\u001b[1mval:\u001b[0m /content/drive/MyDrive/Colab Notebooks/Computer Vision/Photos/val... found 40 images in 2 classes ✅ \n",
            "\u001b[34m\u001b[1mtest:\u001b[0m None...\n",
            "Overriding model.yaml nc=1000 with nc=2\n",
            "\n",
            "                   from  n    params  module                                       arguments                     \n",
            "  0                  -1  1       464  ultralytics.nn.modules.conv.Conv             [3, 16, 3, 2]                 \n",
            "  1                  -1  1      4672  ultralytics.nn.modules.conv.Conv             [16, 32, 3, 2]                \n",
            "  2                  -1  1      7360  ultralytics.nn.modules.block.C2f             [32, 32, 1, True]             \n",
            "  3                  -1  1     18560  ultralytics.nn.modules.conv.Conv             [32, 64, 3, 2]                \n",
            "  4                  -1  2     49664  ultralytics.nn.modules.block.C2f             [64, 64, 2, True]             \n",
            "  5                  -1  1     73984  ultralytics.nn.modules.conv.Conv             [64, 128, 3, 2]               \n",
            "  6                  -1  2    197632  ultralytics.nn.modules.block.C2f             [128, 128, 2, True]           \n",
            "  7                  -1  1    295424  ultralytics.nn.modules.conv.Conv             [128, 256, 3, 2]              \n",
            "  8                  -1  1    460288  ultralytics.nn.modules.block.C2f             [256, 256, 1, True]           \n",
            "  9                  -1  1    332802  ultralytics.nn.modules.head.Classify         [256, 2]                      \n",
            "YOLOv8n-cls summary: 99 layers, 1440850 parameters, 1440850 gradients, 3.4 GFLOPs\n",
            "Transferred 156/158 items from pretrained weights\n",
            "\u001b[34m\u001b[1mTensorBoard: \u001b[0mStart with 'tensorboard --logdir runs/classify/train3', view at http://localhost:6006/\n",
            "\u001b[34m\u001b[1mAMP: \u001b[0mrunning Automatic Mixed Precision (AMP) checks with YOLOv8n...\n",
            "\u001b[34m\u001b[1mAMP: \u001b[0mchecks passed ✅\n"
          ]
        },
        {
          "output_type": "stream",
          "name": "stderr",
          "text": [
            "\u001b[34m\u001b[1mtrain: \u001b[0mScanning /content/drive/MyDrive/Colab Notebooks/Computer Vision/Photos/train... 34 images, 0 corrupt: 100%|██████████| 34/34 [00:00<?, ?it/s]"
          ]
        },
        {
          "output_type": "stream",
          "name": "stdout",
          "text": [
            "\u001b[34m\u001b[1mtrain: \u001b[0mWARNING ⚠️ /content/drive/MyDrive/Colab Notebooks/Computer Vision/Photos/train/Apples/20240313_135836.jpg: corrupt JPEG restored and saved\n",
            "\u001b[34m\u001b[1mtrain: \u001b[0mWARNING ⚠️ /content/drive/MyDrive/Colab Notebooks/Computer Vision/Photos/train/Apples/20240313_140123.jpg: corrupt JPEG restored and saved\n",
            "\u001b[34m\u001b[1mtrain: \u001b[0mWARNING ⚠️ /content/drive/MyDrive/Colab Notebooks/Computer Vision/Photos/train/Apples/20240313_140200.jpg: corrupt JPEG restored and saved\n",
            "\u001b[34m\u001b[1mtrain: \u001b[0mWARNING ⚠️ /content/drive/MyDrive/Colab Notebooks/Computer Vision/Photos/train/Apples/20240313_140230.jpg: corrupt JPEG restored and saved\n",
            "\u001b[34m\u001b[1mtrain: \u001b[0mWARNING ⚠️ /content/drive/MyDrive/Colab Notebooks/Computer Vision/Photos/train/Apples/20240313_140248.jpg: corrupt JPEG restored and saved\n",
            "\u001b[34m\u001b[1mtrain: \u001b[0mWARNING ⚠️ /content/drive/MyDrive/Colab Notebooks/Computer Vision/Photos/train/Apples/20240313_140349.jpg: corrupt JPEG restored and saved\n",
            "\u001b[34m\u001b[1mtrain: \u001b[0mWARNING ⚠️ /content/drive/MyDrive/Colab Notebooks/Computer Vision/Photos/train/Apples/20240313_140812.jpg: corrupt JPEG restored and saved\n",
            "\u001b[34m\u001b[1mtrain: \u001b[0mWARNING ⚠️ /content/drive/MyDrive/Colab Notebooks/Computer Vision/Photos/train/Apples/20240313_140849.jpg: corrupt JPEG restored and saved\n",
            "\u001b[34m\u001b[1mtrain: \u001b[0mWARNING ⚠️ /content/drive/MyDrive/Colab Notebooks/Computer Vision/Photos/train/Apples/20240313_141125.jpg: corrupt JPEG restored and saved\n",
            "\u001b[34m\u001b[1mtrain: \u001b[0mWARNING ⚠️ /content/drive/MyDrive/Colab Notebooks/Computer Vision/Photos/train/Apples/20240313_141132.jpg: corrupt JPEG restored and saved\n",
            "\u001b[34m\u001b[1mtrain: \u001b[0mWARNING ⚠️ /content/drive/MyDrive/Colab Notebooks/Computer Vision/Photos/train/Apples/20240313_141149.jpg: corrupt JPEG restored and saved\n",
            "\u001b[34m\u001b[1mtrain: \u001b[0mWARNING ⚠️ /content/drive/MyDrive/Colab Notebooks/Computer Vision/Photos/train/Red Onion/20240313_140433.jpg: corrupt JPEG restored and saved\n",
            "\u001b[34m\u001b[1mtrain: \u001b[0mWARNING ⚠️ /content/drive/MyDrive/Colab Notebooks/Computer Vision/Photos/train/Red Onion/20240313_140448.jpg: corrupt JPEG restored and saved\n",
            "\u001b[34m\u001b[1mtrain: \u001b[0mWARNING ⚠️ /content/drive/MyDrive/Colab Notebooks/Computer Vision/Photos/train/Red Onion/20240313_140500.jpg: corrupt JPEG restored and saved\n",
            "\u001b[34m\u001b[1mtrain: \u001b[0mWARNING ⚠️ /content/drive/MyDrive/Colab Notebooks/Computer Vision/Photos/train/Red Onion/20240313_140609.jpg: corrupt JPEG restored and saved\n",
            "\u001b[34m\u001b[1mtrain: \u001b[0mWARNING ⚠️ /content/drive/MyDrive/Colab Notebooks/Computer Vision/Photos/train/Red Onion/20240313_140615.jpg: corrupt JPEG restored and saved\n",
            "\u001b[34m\u001b[1mtrain: \u001b[0mWARNING ⚠️ /content/drive/MyDrive/Colab Notebooks/Computer Vision/Photos/train/Red Onion/20240313_140942.jpg: corrupt JPEG restored and saved\n",
            "\u001b[34m\u001b[1mtrain: \u001b[0mWARNING ⚠️ /content/drive/MyDrive/Colab Notebooks/Computer Vision/Photos/train/Red Onion/20240313_141028.jpg: corrupt JPEG restored and saved\n",
            "\u001b[34m\u001b[1mtrain: \u001b[0mWARNING ⚠️ /content/drive/MyDrive/Colab Notebooks/Computer Vision/Photos/train/Red Onion/20240313_141036.jpg: corrupt JPEG restored and saved\n"
          ]
        },
        {
          "output_type": "stream",
          "name": "stderr",
          "text": [
            "\n",
            "\u001b[34m\u001b[1mval: \u001b[0mScanning /content/drive/MyDrive/Colab Notebooks/Computer Vision/Photos/val... 36 images, 0 corrupt: 100%|██████████| 36/36 [00:00<?, ?it/s]"
          ]
        },
        {
          "output_type": "stream",
          "name": "stdout",
          "text": [
            "\u001b[34m\u001b[1mval: \u001b[0mWARNING ⚠️ /content/drive/MyDrive/Colab Notebooks/Computer Vision/Photos/val/Apples/20240313_135641.jpg: corrupt JPEG restored and saved\n",
            "\u001b[34m\u001b[1mval: \u001b[0mWARNING ⚠️ /content/drive/MyDrive/Colab Notebooks/Computer Vision/Photos/val/Apples/20240313_140215.jpg: corrupt JPEG restored and saved\n",
            "\u001b[34m\u001b[1mval: \u001b[0mWARNING ⚠️ /content/drive/MyDrive/Colab Notebooks/Computer Vision/Photos/val/Apples/20240313_140243.jpg: corrupt JPEG restored and saved\n",
            "\u001b[34m\u001b[1mval: \u001b[0mWARNING ⚠️ /content/drive/MyDrive/Colab Notebooks/Computer Vision/Photos/val/Apples/20240313_140304.jpg: corrupt JPEG restored and saved\n",
            "\u001b[34m\u001b[1mval: \u001b[0mWARNING ⚠️ /content/drive/MyDrive/Colab Notebooks/Computer Vision/Photos/val/Apples/20240313_140314.jpg: corrupt JPEG restored and saved\n",
            "\u001b[34m\u001b[1mval: \u001b[0mWARNING ⚠️ /content/drive/MyDrive/Colab Notebooks/Computer Vision/Photos/val/Apples/20240313_140328.jpg: corrupt JPEG restored and saved\n",
            "\u001b[34m\u001b[1mval: \u001b[0mWARNING ⚠️ /content/drive/MyDrive/Colab Notebooks/Computer Vision/Photos/val/Apples/20240313_140337.jpg: corrupt JPEG restored and saved\n",
            "\u001b[34m\u001b[1mval: \u001b[0mWARNING ⚠️ /content/drive/MyDrive/Colab Notebooks/Computer Vision/Photos/val/Apples/20240313_140356.jpg: corrupt JPEG restored and saved\n",
            "\u001b[34m\u001b[1mval: \u001b[0mWARNING ⚠️ /content/drive/MyDrive/Colab Notebooks/Computer Vision/Photos/val/Apples/20240313_140821.jpg: corrupt JPEG restored and saved\n",
            "\u001b[34m\u001b[1mval: \u001b[0mWARNING ⚠️ /content/drive/MyDrive/Colab Notebooks/Computer Vision/Photos/val/Apples/20240313_140841.jpg: corrupt JPEG restored and saved\n",
            "\u001b[34m\u001b[1mval: \u001b[0mWARNING ⚠️ /content/drive/MyDrive/Colab Notebooks/Computer Vision/Photos/val/Apples/20240313_140905.jpg: corrupt JPEG restored and saved\n",
            "\u001b[34m\u001b[1mval: \u001b[0mWARNING ⚠️ /content/drive/MyDrive/Colab Notebooks/Computer Vision/Photos/val/Apples/20240313_140917.jpg: corrupt JPEG restored and saved\n",
            "\u001b[34m\u001b[1mval: \u001b[0mWARNING ⚠️ /content/drive/MyDrive/Colab Notebooks/Computer Vision/Photos/val/Apples/20240313_141129.jpg: corrupt JPEG restored and saved\n",
            "\u001b[34m\u001b[1mval: \u001b[0mWARNING ⚠️ /content/drive/MyDrive/Colab Notebooks/Computer Vision/Photos/val/Apples/20240313_141145.jpg: corrupt JPEG restored and saved\n",
            "\u001b[34m\u001b[1mval: \u001b[0mWARNING ⚠️ /content/drive/MyDrive/Colab Notebooks/Computer Vision/Photos/val/Apples/20240313_141208.jpg: corrupt JPEG restored and saved\n",
            "\u001b[34m\u001b[1mval: \u001b[0mWARNING ⚠️ /content/drive/MyDrive/Colab Notebooks/Computer Vision/Photos/val/Red Onion/20240313_140418.jpg: corrupt JPEG restored and saved\n",
            "\u001b[34m\u001b[1mval: \u001b[0mWARNING ⚠️ /content/drive/MyDrive/Colab Notebooks/Computer Vision/Photos/val/Red Onion/20240313_140439.jpg: corrupt JPEG restored and saved\n",
            "\u001b[34m\u001b[1mval: \u001b[0mWARNING ⚠️ /content/drive/MyDrive/Colab Notebooks/Computer Vision/Photos/val/Red Onion/20240313_140454.jpg: corrupt JPEG restored and saved\n",
            "\u001b[34m\u001b[1mval: \u001b[0mWARNING ⚠️ /content/drive/MyDrive/Colab Notebooks/Computer Vision/Photos/val/Red Onion/20240313_140609.jpg: corrupt JPEG restored and saved\n",
            "\u001b[34m\u001b[1mval: \u001b[0mWARNING ⚠️ /content/drive/MyDrive/Colab Notebooks/Computer Vision/Photos/val/Red Onion/20240313_141025.jpg: corrupt JPEG restored and saved\n",
            "\u001b[34m\u001b[1mval: \u001b[0mWARNING ⚠️ /content/drive/MyDrive/Colab Notebooks/Computer Vision/Photos/val/Red Onion/20240313_141049.jpg: corrupt JPEG restored and saved\n"
          ]
        },
        {
          "output_type": "stream",
          "name": "stderr",
          "text": [
            "\n"
          ]
        },
        {
          "output_type": "stream",
          "name": "stdout",
          "text": [
            "\u001b[34m\u001b[1moptimizer:\u001b[0m 'optimizer=auto' found, ignoring 'lr0=0.0005' and 'momentum=0.937' and determining best 'optimizer', 'lr0' and 'momentum' automatically... \n",
            "\u001b[34m\u001b[1moptimizer:\u001b[0m AdamW(lr=0.000714, momentum=0.9) with parameter groups 26 weight(decay=0.0), 27 weight(decay=0.0005), 27 bias(decay=0.0)\n",
            "\u001b[34m\u001b[1mTensorBoard: \u001b[0mmodel graph visualization added ✅\n",
            "Image sizes 640 train, 640 val\n",
            "Using 2 dataloader workers\n",
            "Logging results to \u001b[1mruns/classify/train3\u001b[0m\n",
            "Starting training for 15 epochs...\n",
            "\n",
            "      Epoch    GPU_mem       loss  Instances       Size\n"
          ]
        },
        {
          "output_type": "stream",
          "name": "stderr",
          "text": [
            "       1/15     0.843G     0.7185          2        640: 100%|██████████| 5/5 [00:22<00:00,  4.43s/it]\n",
            "               classes   top1_acc   top5_acc: 100%|██████████| 3/3 [00:03<00:00,  1.20s/it]"
          ]
        },
        {
          "output_type": "stream",
          "name": "stdout",
          "text": [
            "                   all      0.639          1\n"
          ]
        },
        {
          "output_type": "stream",
          "name": "stderr",
          "text": [
            "\n"
          ]
        },
        {
          "output_type": "stream",
          "name": "stdout",
          "text": [
            "\n",
            "      Epoch    GPU_mem       loss  Instances       Size\n"
          ]
        },
        {
          "output_type": "stream",
          "name": "stderr",
          "text": [
            "       2/15     0.858G     0.6723          2        640: 100%|██████████| 5/5 [00:20<00:00,  4.08s/it]\n",
            "               classes   top1_acc   top5_acc: 100%|██████████| 3/3 [00:01<00:00,  2.46it/s]"
          ]
        },
        {
          "output_type": "stream",
          "name": "stdout",
          "text": [
            "                   all      0.639          1\n"
          ]
        },
        {
          "output_type": "stream",
          "name": "stderr",
          "text": [
            "\n"
          ]
        },
        {
          "output_type": "stream",
          "name": "stdout",
          "text": [
            "\n",
            "      Epoch    GPU_mem       loss  Instances       Size\n"
          ]
        },
        {
          "output_type": "stream",
          "name": "stderr",
          "text": [
            "       3/15     0.856G     0.7117          2        640: 100%|██████████| 5/5 [00:22<00:00,  4.55s/it]\n",
            "               classes   top1_acc   top5_acc: 100%|██████████| 3/3 [00:05<00:00,  1.68s/it]"
          ]
        },
        {
          "output_type": "stream",
          "name": "stdout",
          "text": [
            "                   all      0.639          1\n"
          ]
        },
        {
          "output_type": "stream",
          "name": "stderr",
          "text": [
            "\n"
          ]
        },
        {
          "output_type": "stream",
          "name": "stdout",
          "text": [
            "\n",
            "      Epoch    GPU_mem       loss  Instances       Size\n"
          ]
        },
        {
          "output_type": "stream",
          "name": "stderr",
          "text": [
            "       4/15     0.858G      0.614          2        640: 100%|██████████| 5/5 [00:19<00:00,  3.94s/it]\n",
            "               classes   top1_acc   top5_acc: 100%|██████████| 3/3 [00:00<00:00, 13.78it/s]"
          ]
        },
        {
          "output_type": "stream",
          "name": "stdout",
          "text": [
            "                   all      0.667          1\n"
          ]
        },
        {
          "output_type": "stream",
          "name": "stderr",
          "text": [
            "\n"
          ]
        },
        {
          "output_type": "stream",
          "name": "stdout",
          "text": [
            "\n",
            "      Epoch    GPU_mem       loss  Instances       Size\n"
          ]
        },
        {
          "output_type": "stream",
          "name": "stderr",
          "text": [
            "       5/15      0.83G     0.5719          2        640: 100%|██████████| 5/5 [00:24<00:00,  4.91s/it]\n",
            "               classes   top1_acc   top5_acc: 100%|██████████| 3/3 [00:01<00:00,  2.64it/s]"
          ]
        },
        {
          "output_type": "stream",
          "name": "stdout",
          "text": [
            "                   all      0.694          1\n"
          ]
        },
        {
          "output_type": "stream",
          "name": "stderr",
          "text": [
            "\n"
          ]
        },
        {
          "output_type": "stream",
          "name": "stdout",
          "text": [
            "\n",
            "      Epoch    GPU_mem       loss  Instances       Size\n"
          ]
        },
        {
          "output_type": "stream",
          "name": "stderr",
          "text": [
            "       6/15     0.828G     0.5728          2        640: 100%|██████████| 5/5 [00:21<00:00,  4.22s/it]\n",
            "               classes   top1_acc   top5_acc: 100%|██████████| 3/3 [00:00<00:00, 20.38it/s]"
          ]
        },
        {
          "output_type": "stream",
          "name": "stdout",
          "text": [
            "                   all      0.778          1\n"
          ]
        },
        {
          "output_type": "stream",
          "name": "stderr",
          "text": [
            "\n"
          ]
        },
        {
          "output_type": "stream",
          "name": "stdout",
          "text": [
            "\n",
            "      Epoch    GPU_mem       loss  Instances       Size\n"
          ]
        },
        {
          "output_type": "stream",
          "name": "stderr",
          "text": [
            "       7/15     0.826G     0.5138          2        640: 100%|██████████| 5/5 [00:22<00:00,  4.55s/it]\n",
            "               classes   top1_acc   top5_acc: 100%|██████████| 3/3 [00:00<00:00, 24.52it/s]"
          ]
        },
        {
          "output_type": "stream",
          "name": "stdout",
          "text": [
            "                   all      0.806          1\n"
          ]
        },
        {
          "output_type": "stream",
          "name": "stderr",
          "text": [
            "\n"
          ]
        },
        {
          "output_type": "stream",
          "name": "stdout",
          "text": [
            "\n",
            "      Epoch    GPU_mem       loss  Instances       Size\n"
          ]
        },
        {
          "output_type": "stream",
          "name": "stderr",
          "text": [
            "       8/15      0.83G     0.4716          2        640: 100%|██████████| 5/5 [00:23<00:00,  4.77s/it]\n",
            "               classes   top1_acc   top5_acc: 100%|██████████| 3/3 [00:01<00:00,  2.82it/s]"
          ]
        },
        {
          "output_type": "stream",
          "name": "stdout",
          "text": [
            "                   all      0.806          1\n"
          ]
        },
        {
          "output_type": "stream",
          "name": "stderr",
          "text": [
            "\n"
          ]
        },
        {
          "output_type": "stream",
          "name": "stdout",
          "text": [
            "\n",
            "      Epoch    GPU_mem       loss  Instances       Size\n"
          ]
        },
        {
          "output_type": "stream",
          "name": "stderr",
          "text": [
            "       9/15     0.828G     0.4687          2        640: 100%|██████████| 5/5 [00:21<00:00,  4.24s/it]\n",
            "               classes   top1_acc   top5_acc: 100%|██████████| 3/3 [00:02<00:00,  1.15it/s]"
          ]
        },
        {
          "output_type": "stream",
          "name": "stdout",
          "text": [
            "                   all      0.806          1\n"
          ]
        },
        {
          "output_type": "stream",
          "name": "stderr",
          "text": [
            "\n"
          ]
        },
        {
          "output_type": "stream",
          "name": "stdout",
          "text": [
            "\n",
            "      Epoch    GPU_mem       loss  Instances       Size\n"
          ]
        },
        {
          "output_type": "stream",
          "name": "stderr",
          "text": [
            "      10/15     0.828G     0.4971          2        640: 100%|██████████| 5/5 [00:21<00:00,  4.35s/it]\n",
            "               classes   top1_acc   top5_acc: 100%|██████████| 3/3 [00:02<00:00,  1.12it/s]"
          ]
        },
        {
          "output_type": "stream",
          "name": "stdout",
          "text": [
            "                   all      0.833          1\n"
          ]
        },
        {
          "output_type": "stream",
          "name": "stderr",
          "text": [
            "\n"
          ]
        },
        {
          "output_type": "stream",
          "name": "stdout",
          "text": [
            "\n",
            "      Epoch    GPU_mem       loss  Instances       Size\n"
          ]
        },
        {
          "output_type": "stream",
          "name": "stderr",
          "text": [
            "      11/15     0.828G     0.4627          2        640: 100%|██████████| 5/5 [00:24<00:00,  4.95s/it]\n",
            "               classes   top1_acc   top5_acc: 100%|██████████| 3/3 [00:03<00:00,  1.19s/it]"
          ]
        },
        {
          "output_type": "stream",
          "name": "stdout",
          "text": [
            "                   all      0.889          1\n"
          ]
        },
        {
          "output_type": "stream",
          "name": "stderr",
          "text": [
            "\n"
          ]
        },
        {
          "output_type": "stream",
          "name": "stdout",
          "text": [
            "\n",
            "      Epoch    GPU_mem       loss  Instances       Size\n"
          ]
        },
        {
          "output_type": "stream",
          "name": "stderr",
          "text": [
            "      12/15     0.828G     0.4416          2        640: 100%|██████████| 5/5 [00:22<00:00,  4.57s/it]\n",
            "               classes   top1_acc   top5_acc: 100%|██████████| 3/3 [00:06<00:00,  2.19s/it]"
          ]
        },
        {
          "output_type": "stream",
          "name": "stdout",
          "text": [
            "                   all      0.833          1\n"
          ]
        },
        {
          "output_type": "stream",
          "name": "stderr",
          "text": [
            "\n"
          ]
        },
        {
          "output_type": "stream",
          "name": "stdout",
          "text": [
            "\n",
            "      Epoch    GPU_mem       loss  Instances       Size\n"
          ]
        },
        {
          "output_type": "stream",
          "name": "stderr",
          "text": [
            "      13/15     0.828G     0.4134          2        640: 100%|██████████| 5/5 [00:22<00:00,  4.48s/it]\n",
            "               classes   top1_acc   top5_acc: 100%|██████████| 3/3 [00:01<00:00,  1.58it/s]"
          ]
        },
        {
          "output_type": "stream",
          "name": "stdout",
          "text": [
            "                   all      0.806          1\n"
          ]
        },
        {
          "output_type": "stream",
          "name": "stderr",
          "text": [
            "\n"
          ]
        },
        {
          "output_type": "stream",
          "name": "stdout",
          "text": [
            "\n",
            "      Epoch    GPU_mem       loss  Instances       Size\n"
          ]
        },
        {
          "output_type": "stream",
          "name": "stderr",
          "text": [
            "      14/15     0.828G     0.4242          2        640: 100%|██████████| 5/5 [00:19<00:00,  3.99s/it]\n",
            "               classes   top1_acc   top5_acc: 100%|██████████| 3/3 [00:03<00:00,  1.06s/it]"
          ]
        },
        {
          "output_type": "stream",
          "name": "stdout",
          "text": [
            "                   all      0.806          1\n"
          ]
        },
        {
          "output_type": "stream",
          "name": "stderr",
          "text": [
            "\n"
          ]
        },
        {
          "output_type": "stream",
          "name": "stdout",
          "text": [
            "\n",
            "      Epoch    GPU_mem       loss  Instances       Size\n"
          ]
        },
        {
          "output_type": "stream",
          "name": "stderr",
          "text": [
            "      15/15     0.828G     0.4245          2        640: 100%|██████████| 5/5 [00:27<00:00,  5.42s/it]\n",
            "               classes   top1_acc   top5_acc: 100%|██████████| 3/3 [00:01<00:00,  2.77it/s]"
          ]
        },
        {
          "output_type": "stream",
          "name": "stdout",
          "text": [
            "                   all      0.806          1\n"
          ]
        },
        {
          "output_type": "stream",
          "name": "stderr",
          "text": [
            "\n"
          ]
        },
        {
          "output_type": "stream",
          "name": "stdout",
          "text": [
            "\n",
            "15 epochs completed in 0.114 hours.\n",
            "Optimizer stripped from runs/classify/train3/weights/last.pt, 3.0MB\n",
            "Optimizer stripped from runs/classify/train3/weights/best.pt, 3.0MB\n",
            "\n",
            "Validating runs/classify/train3/weights/best.pt...\n",
            "Ultralytics YOLOv8.1.27 🚀 Python-3.10.12 torch-2.2.1+cu121 CUDA:0 (Tesla T4, 15102MiB)\n",
            "YOLOv8n-cls summary (fused): 73 layers, 1437442 parameters, 0 gradients, 3.3 GFLOPs\n",
            "\u001b[34m\u001b[1mtrain:\u001b[0m /content/drive/MyDrive/Colab Notebooks/Computer Vision/Photos/train... found 42 images in 2 classes ✅ \n",
            "\u001b[34m\u001b[1mval:\u001b[0m /content/drive/MyDrive/Colab Notebooks/Computer Vision/Photos/val... found 40 images in 2 classes ✅ \n",
            "\u001b[34m\u001b[1mtest:\u001b[0m None...\n"
          ]
        },
        {
          "output_type": "stream",
          "name": "stderr",
          "text": [
            "               classes   top1_acc   top5_acc: 100%|██████████| 3/3 [00:22<00:00,  7.50s/it]\n"
          ]
        },
        {
          "output_type": "stream",
          "name": "stdout",
          "text": [
            "                   all      0.889          1\n",
            "Speed: 0.9ms preprocess, 2.3ms inference, 0.0ms loss, 0.0ms postprocess per image\n",
            "Results saved to \u001b[1mruns/classify/train3\u001b[0m\n",
            "Results saved to \u001b[1mruns/classify/train3\u001b[0m\n"
          ]
        },
        {
          "output_type": "execute_result",
          "data": {
            "text/plain": [
              "ultralytics.utils.metrics.ClassifyMetrics object with attributes:\n",
              "\n",
              "confusion_matrix: <ultralytics.utils.metrics.ConfusionMatrix object at 0x7c21ac26ebf0>\n",
              "curves: []\n",
              "curves_results: []\n",
              "fitness: 0.9444444477558136\n",
              "keys: ['metrics/accuracy_top1', 'metrics/accuracy_top5']\n",
              "results_dict: {'metrics/accuracy_top1': 0.8888888955116272, 'metrics/accuracy_top5': 1.0, 'fitness': 0.9444444477558136}\n",
              "save_dir: PosixPath('runs/classify/train3')\n",
              "speed: {'preprocess': 0.9175009197658963, 'inference': 2.297653092278374, 'loss': 0.0012914339701334636, 'postprocess': 0.0011391109890407985}\n",
              "task: 'classify'\n",
              "top1: 0.8888888955116272\n",
              "top5: 1.0"
            ]
          },
          "metadata": {},
          "execution_count": 25
        }
      ]
    },
    {
      "cell_type": "markdown",
      "source": [
        "### Model 3 (s, epochs=15,patience=5,batch=8, lr0=0.0005,imgsz=640) (train4)"
      ],
      "metadata": {
        "id": "4HRFHFb--UOt"
      }
    },
    {
      "cell_type": "markdown",
      "source": [
        "same paramters as model 2 but on pretrained yolo model s NOT nano"
      ],
      "metadata": {
        "id": "o6FSyHJn-gDc"
      }
    },
    {
      "cell_type": "code",
      "source": [
        "model3 = YOLO('yolov8s-cls.pt')  # load a pretrained YOLOv8n classification model"
      ],
      "metadata": {
        "id": "4N5hp9mm-YR8"
      },
      "execution_count": 6,
      "outputs": []
    },
    {
      "cell_type": "code",
      "source": [
        "#Training model 1 with our own data\n",
        "model3.train(data=\"/content/drive/MyDrive/Colab Notebooks/Computer Vision/Photos\",epochs=15,patience=5,batch=8, lr0=0.0005,imgsz=640)"
      ],
      "metadata": {
        "colab": {
          "base_uri": "https://localhost:8080/"
        },
        "id": "n56rGnBu-bHQ",
        "outputId": "aaca851e-c535-47a7-aae6-fd6b41f0b2cb"
      },
      "execution_count": 45,
      "outputs": [
        {
          "output_type": "stream",
          "name": "stdout",
          "text": [
            "Ultralytics YOLOv8.1.27 🚀 Python-3.10.12 torch-2.2.1+cu121 CUDA:0 (Tesla T4, 15102MiB)\n",
            "\u001b[34m\u001b[1mengine/trainer: \u001b[0mtask=classify, mode=train, model=yolov8s-cls.pt, data=/content/drive/MyDrive/Colab Notebooks/Computer Vision/Photos, epochs=15, time=None, patience=5, batch=8, imgsz=640, save=True, save_period=-1, cache=False, device=None, workers=8, project=None, name=train4, exist_ok=False, pretrained=True, optimizer=auto, verbose=True, seed=0, deterministic=True, single_cls=False, rect=False, cos_lr=False, close_mosaic=10, resume=False, amp=True, fraction=1.0, profile=False, freeze=None, multi_scale=False, overlap_mask=True, mask_ratio=4, dropout=0.0, val=True, split=val, save_json=False, save_hybrid=False, conf=None, iou=0.7, max_det=300, half=False, dnn=False, plots=True, source=None, vid_stride=1, stream_buffer=False, visualize=False, augment=False, agnostic_nms=False, classes=None, retina_masks=False, embed=None, show=False, save_frames=False, save_txt=False, save_conf=False, save_crop=False, show_labels=True, show_conf=True, show_boxes=True, line_width=None, format=torchscript, keras=False, optimize=False, int8=False, dynamic=False, simplify=False, opset=None, workspace=4, nms=False, lr0=0.0005, lrf=0.01, momentum=0.937, weight_decay=0.0005, warmup_epochs=3.0, warmup_momentum=0.8, warmup_bias_lr=0.1, box=7.5, cls=0.5, dfl=1.5, pose=12.0, kobj=1.0, label_smoothing=0.0, nbs=64, hsv_h=0.015, hsv_s=0.7, hsv_v=0.4, degrees=0.0, translate=0.1, scale=0.5, shear=0.0, perspective=0.0, flipud=0.0, fliplr=0.5, mosaic=1.0, mixup=0.0, copy_paste=0.0, auto_augment=randaugment, erasing=0.4, crop_fraction=1.0, cfg=None, tracker=botsort.yaml, save_dir=runs/classify/train4\n",
            "\u001b[34m\u001b[1mtrain:\u001b[0m /content/drive/MyDrive/Colab Notebooks/Computer Vision/Photos/train... found 42 images in 2 classes ✅ \n",
            "\u001b[34m\u001b[1mval:\u001b[0m /content/drive/MyDrive/Colab Notebooks/Computer Vision/Photos/val... found 40 images in 2 classes ✅ \n",
            "\u001b[34m\u001b[1mtest:\u001b[0m None...\n",
            "Overriding model.yaml nc=1000 with nc=2\n",
            "\n",
            "                   from  n    params  module                                       arguments                     \n",
            "  0                  -1  1       928  ultralytics.nn.modules.conv.Conv             [3, 32, 3, 2]                 \n",
            "  1                  -1  1     18560  ultralytics.nn.modules.conv.Conv             [32, 64, 3, 2]                \n",
            "  2                  -1  1     29056  ultralytics.nn.modules.block.C2f             [64, 64, 1, True]             \n",
            "  3                  -1  1     73984  ultralytics.nn.modules.conv.Conv             [64, 128, 3, 2]               \n",
            "  4                  -1  2    197632  ultralytics.nn.modules.block.C2f             [128, 128, 2, True]           \n",
            "  5                  -1  1    295424  ultralytics.nn.modules.conv.Conv             [128, 256, 3, 2]              \n",
            "  6                  -1  2    788480  ultralytics.nn.modules.block.C2f             [256, 256, 2, True]           \n",
            "  7                  -1  1   1180672  ultralytics.nn.modules.conv.Conv             [256, 512, 3, 2]              \n",
            "  8                  -1  1   1838080  ultralytics.nn.modules.block.C2f             [512, 512, 1, True]           \n",
            "  9                  -1  1    660482  ultralytics.nn.modules.head.Classify         [512, 2]                      \n",
            "YOLOv8s-cls summary: 99 layers, 5083298 parameters, 5083298 gradients, 12.6 GFLOPs\n",
            "Transferred 156/158 items from pretrained weights\n",
            "\u001b[34m\u001b[1mTensorBoard: \u001b[0mStart with 'tensorboard --logdir runs/classify/train4', view at http://localhost:6006/\n",
            "\u001b[34m\u001b[1mAMP: \u001b[0mrunning Automatic Mixed Precision (AMP) checks with YOLOv8n...\n",
            "\u001b[34m\u001b[1mAMP: \u001b[0mchecks passed ✅\n"
          ]
        },
        {
          "output_type": "stream",
          "name": "stderr",
          "text": [
            "\u001b[34m\u001b[1mtrain: \u001b[0mScanning /content/drive/MyDrive/Colab Notebooks/Computer Vision/Photos/train... 34 images, 0 corrupt: 100%|██████████| 34/34 [00:00<?, ?it/s]"
          ]
        },
        {
          "output_type": "stream",
          "name": "stdout",
          "text": [
            "\u001b[34m\u001b[1mtrain: \u001b[0mWARNING ⚠️ /content/drive/MyDrive/Colab Notebooks/Computer Vision/Photos/train/Apples/20240313_135836.jpg: corrupt JPEG restored and saved\n",
            "\u001b[34m\u001b[1mtrain: \u001b[0mWARNING ⚠️ /content/drive/MyDrive/Colab Notebooks/Computer Vision/Photos/train/Apples/20240313_140123.jpg: corrupt JPEG restored and saved\n",
            "\u001b[34m\u001b[1mtrain: \u001b[0mWARNING ⚠️ /content/drive/MyDrive/Colab Notebooks/Computer Vision/Photos/train/Apples/20240313_140200.jpg: corrupt JPEG restored and saved\n",
            "\u001b[34m\u001b[1mtrain: \u001b[0mWARNING ⚠️ /content/drive/MyDrive/Colab Notebooks/Computer Vision/Photos/train/Apples/20240313_140230.jpg: corrupt JPEG restored and saved\n",
            "\u001b[34m\u001b[1mtrain: \u001b[0mWARNING ⚠️ /content/drive/MyDrive/Colab Notebooks/Computer Vision/Photos/train/Apples/20240313_140248.jpg: corrupt JPEG restored and saved\n",
            "\u001b[34m\u001b[1mtrain: \u001b[0mWARNING ⚠️ /content/drive/MyDrive/Colab Notebooks/Computer Vision/Photos/train/Apples/20240313_140349.jpg: corrupt JPEG restored and saved\n",
            "\u001b[34m\u001b[1mtrain: \u001b[0mWARNING ⚠️ /content/drive/MyDrive/Colab Notebooks/Computer Vision/Photos/train/Apples/20240313_140812.jpg: corrupt JPEG restored and saved\n",
            "\u001b[34m\u001b[1mtrain: \u001b[0mWARNING ⚠️ /content/drive/MyDrive/Colab Notebooks/Computer Vision/Photos/train/Apples/20240313_140849.jpg: corrupt JPEG restored and saved\n",
            "\u001b[34m\u001b[1mtrain: \u001b[0mWARNING ⚠️ /content/drive/MyDrive/Colab Notebooks/Computer Vision/Photos/train/Apples/20240313_141125.jpg: corrupt JPEG restored and saved\n",
            "\u001b[34m\u001b[1mtrain: \u001b[0mWARNING ⚠️ /content/drive/MyDrive/Colab Notebooks/Computer Vision/Photos/train/Apples/20240313_141132.jpg: corrupt JPEG restored and saved\n",
            "\u001b[34m\u001b[1mtrain: \u001b[0mWARNING ⚠️ /content/drive/MyDrive/Colab Notebooks/Computer Vision/Photos/train/Apples/20240313_141149.jpg: corrupt JPEG restored and saved\n",
            "\u001b[34m\u001b[1mtrain: \u001b[0mWARNING ⚠️ /content/drive/MyDrive/Colab Notebooks/Computer Vision/Photos/train/Red Onion/20240313_140433.jpg: corrupt JPEG restored and saved\n",
            "\u001b[34m\u001b[1mtrain: \u001b[0mWARNING ⚠️ /content/drive/MyDrive/Colab Notebooks/Computer Vision/Photos/train/Red Onion/20240313_140448.jpg: corrupt JPEG restored and saved\n",
            "\u001b[34m\u001b[1mtrain: \u001b[0mWARNING ⚠️ /content/drive/MyDrive/Colab Notebooks/Computer Vision/Photos/train/Red Onion/20240313_140500.jpg: corrupt JPEG restored and saved\n",
            "\u001b[34m\u001b[1mtrain: \u001b[0mWARNING ⚠️ /content/drive/MyDrive/Colab Notebooks/Computer Vision/Photos/train/Red Onion/20240313_140609.jpg: corrupt JPEG restored and saved\n",
            "\u001b[34m\u001b[1mtrain: \u001b[0mWARNING ⚠️ /content/drive/MyDrive/Colab Notebooks/Computer Vision/Photos/train/Red Onion/20240313_140615.jpg: corrupt JPEG restored and saved\n",
            "\u001b[34m\u001b[1mtrain: \u001b[0mWARNING ⚠️ /content/drive/MyDrive/Colab Notebooks/Computer Vision/Photos/train/Red Onion/20240313_140942.jpg: corrupt JPEG restored and saved\n",
            "\u001b[34m\u001b[1mtrain: \u001b[0mWARNING ⚠️ /content/drive/MyDrive/Colab Notebooks/Computer Vision/Photos/train/Red Onion/20240313_141028.jpg: corrupt JPEG restored and saved\n",
            "\u001b[34m\u001b[1mtrain: \u001b[0mWARNING ⚠️ /content/drive/MyDrive/Colab Notebooks/Computer Vision/Photos/train/Red Onion/20240313_141036.jpg: corrupt JPEG restored and saved\n"
          ]
        },
        {
          "output_type": "stream",
          "name": "stderr",
          "text": [
            "\n",
            "\u001b[34m\u001b[1mval: \u001b[0mScanning /content/drive/MyDrive/Colab Notebooks/Computer Vision/Photos/val... 36 images, 0 corrupt: 100%|██████████| 36/36 [00:00<?, ?it/s]"
          ]
        },
        {
          "output_type": "stream",
          "name": "stdout",
          "text": [
            "\u001b[34m\u001b[1mval: \u001b[0mWARNING ⚠️ /content/drive/MyDrive/Colab Notebooks/Computer Vision/Photos/val/Apples/20240313_135641.jpg: corrupt JPEG restored and saved\n",
            "\u001b[34m\u001b[1mval: \u001b[0mWARNING ⚠️ /content/drive/MyDrive/Colab Notebooks/Computer Vision/Photos/val/Apples/20240313_140215.jpg: corrupt JPEG restored and saved\n",
            "\u001b[34m\u001b[1mval: \u001b[0mWARNING ⚠️ /content/drive/MyDrive/Colab Notebooks/Computer Vision/Photos/val/Apples/20240313_140243.jpg: corrupt JPEG restored and saved\n",
            "\u001b[34m\u001b[1mval: \u001b[0mWARNING ⚠️ /content/drive/MyDrive/Colab Notebooks/Computer Vision/Photos/val/Apples/20240313_140304.jpg: corrupt JPEG restored and saved\n",
            "\u001b[34m\u001b[1mval: \u001b[0mWARNING ⚠️ /content/drive/MyDrive/Colab Notebooks/Computer Vision/Photos/val/Apples/20240313_140314.jpg: corrupt JPEG restored and saved\n",
            "\u001b[34m\u001b[1mval: \u001b[0mWARNING ⚠️ /content/drive/MyDrive/Colab Notebooks/Computer Vision/Photos/val/Apples/20240313_140328.jpg: corrupt JPEG restored and saved\n",
            "\u001b[34m\u001b[1mval: \u001b[0mWARNING ⚠️ /content/drive/MyDrive/Colab Notebooks/Computer Vision/Photos/val/Apples/20240313_140337.jpg: corrupt JPEG restored and saved\n",
            "\u001b[34m\u001b[1mval: \u001b[0mWARNING ⚠️ /content/drive/MyDrive/Colab Notebooks/Computer Vision/Photos/val/Apples/20240313_140356.jpg: corrupt JPEG restored and saved\n",
            "\u001b[34m\u001b[1mval: \u001b[0mWARNING ⚠️ /content/drive/MyDrive/Colab Notebooks/Computer Vision/Photos/val/Apples/20240313_140821.jpg: corrupt JPEG restored and saved\n",
            "\u001b[34m\u001b[1mval: \u001b[0mWARNING ⚠️ /content/drive/MyDrive/Colab Notebooks/Computer Vision/Photos/val/Apples/20240313_140841.jpg: corrupt JPEG restored and saved\n",
            "\u001b[34m\u001b[1mval: \u001b[0mWARNING ⚠️ /content/drive/MyDrive/Colab Notebooks/Computer Vision/Photos/val/Apples/20240313_140905.jpg: corrupt JPEG restored and saved\n",
            "\u001b[34m\u001b[1mval: \u001b[0mWARNING ⚠️ /content/drive/MyDrive/Colab Notebooks/Computer Vision/Photos/val/Apples/20240313_140917.jpg: corrupt JPEG restored and saved\n",
            "\u001b[34m\u001b[1mval: \u001b[0mWARNING ⚠️ /content/drive/MyDrive/Colab Notebooks/Computer Vision/Photos/val/Apples/20240313_141129.jpg: corrupt JPEG restored and saved\n",
            "\u001b[34m\u001b[1mval: \u001b[0mWARNING ⚠️ /content/drive/MyDrive/Colab Notebooks/Computer Vision/Photos/val/Apples/20240313_141145.jpg: corrupt JPEG restored and saved\n",
            "\u001b[34m\u001b[1mval: \u001b[0mWARNING ⚠️ /content/drive/MyDrive/Colab Notebooks/Computer Vision/Photos/val/Apples/20240313_141208.jpg: corrupt JPEG restored and saved\n",
            "\u001b[34m\u001b[1mval: \u001b[0mWARNING ⚠️ /content/drive/MyDrive/Colab Notebooks/Computer Vision/Photos/val/Red Onion/20240313_140418.jpg: corrupt JPEG restored and saved\n",
            "\u001b[34m\u001b[1mval: \u001b[0mWARNING ⚠️ /content/drive/MyDrive/Colab Notebooks/Computer Vision/Photos/val/Red Onion/20240313_140439.jpg: corrupt JPEG restored and saved\n",
            "\u001b[34m\u001b[1mval: \u001b[0mWARNING ⚠️ /content/drive/MyDrive/Colab Notebooks/Computer Vision/Photos/val/Red Onion/20240313_140454.jpg: corrupt JPEG restored and saved\n",
            "\u001b[34m\u001b[1mval: \u001b[0mWARNING ⚠️ /content/drive/MyDrive/Colab Notebooks/Computer Vision/Photos/val/Red Onion/20240313_140609.jpg: corrupt JPEG restored and saved\n",
            "\u001b[34m\u001b[1mval: \u001b[0mWARNING ⚠️ /content/drive/MyDrive/Colab Notebooks/Computer Vision/Photos/val/Red Onion/20240313_141025.jpg: corrupt JPEG restored and saved\n",
            "\u001b[34m\u001b[1mval: \u001b[0mWARNING ⚠️ /content/drive/MyDrive/Colab Notebooks/Computer Vision/Photos/val/Red Onion/20240313_141049.jpg: corrupt JPEG restored and saved\n"
          ]
        },
        {
          "output_type": "stream",
          "name": "stderr",
          "text": [
            "\n"
          ]
        },
        {
          "output_type": "stream",
          "name": "stdout",
          "text": [
            "\u001b[34m\u001b[1moptimizer:\u001b[0m 'optimizer=auto' found, ignoring 'lr0=0.0005' and 'momentum=0.937' and determining best 'optimizer', 'lr0' and 'momentum' automatically... \n",
            "\u001b[34m\u001b[1moptimizer:\u001b[0m AdamW(lr=0.000714, momentum=0.9) with parameter groups 26 weight(decay=0.0), 27 weight(decay=0.0005), 27 bias(decay=0.0)\n",
            "\u001b[34m\u001b[1mTensorBoard: \u001b[0mmodel graph visualization added ✅\n",
            "Image sizes 640 train, 640 val\n",
            "Using 2 dataloader workers\n",
            "Logging results to \u001b[1mruns/classify/train4\u001b[0m\n",
            "Starting training for 15 epochs...\n",
            "\n",
            "      Epoch    GPU_mem       loss  Instances       Size\n"
          ]
        },
        {
          "output_type": "stream",
          "name": "stderr",
          "text": [
            "       1/15     0.336G     0.7529          2        640: 100%|██████████| 5/5 [00:27<00:00,  5.57s/it]\n",
            "               classes   top1_acc   top5_acc: 100%|██████████| 3/3 [00:03<00:00,  1.04s/it]"
          ]
        },
        {
          "output_type": "stream",
          "name": "stdout",
          "text": [
            "                   all      0.222          1\n"
          ]
        },
        {
          "output_type": "stream",
          "name": "stderr",
          "text": [
            "\n"
          ]
        },
        {
          "output_type": "stream",
          "name": "stdout",
          "text": [
            "\n",
            "      Epoch    GPU_mem       loss  Instances       Size\n"
          ]
        },
        {
          "output_type": "stream",
          "name": "stderr",
          "text": [
            "       2/15      1.53G     0.7333          2        640: 100%|██████████| 5/5 [00:20<00:00,  4.13s/it]\n",
            "               classes   top1_acc   top5_acc: 100%|██████████| 3/3 [00:13<00:00,  4.54s/it]"
          ]
        },
        {
          "output_type": "stream",
          "name": "stdout",
          "text": [
            "                   all      0.361          1\n"
          ]
        },
        {
          "output_type": "stream",
          "name": "stderr",
          "text": [
            "\n"
          ]
        },
        {
          "output_type": "stream",
          "name": "stdout",
          "text": [
            "\n",
            "      Epoch    GPU_mem       loss  Instances       Size\n"
          ]
        },
        {
          "output_type": "stream",
          "name": "stderr",
          "text": [
            "       3/15      1.52G     0.7187          2        640: 100%|██████████| 5/5 [00:10<00:00,  2.10s/it]\n",
            "               classes   top1_acc   top5_acc: 100%|██████████| 3/3 [00:42<00:00, 14.14s/it]"
          ]
        },
        {
          "output_type": "stream",
          "name": "stdout",
          "text": [
            "                   all        0.5          1\n"
          ]
        },
        {
          "output_type": "stream",
          "name": "stderr",
          "text": [
            "\n"
          ]
        },
        {
          "output_type": "stream",
          "name": "stdout",
          "text": [
            "\n",
            "      Epoch    GPU_mem       loss  Instances       Size\n"
          ]
        },
        {
          "output_type": "stream",
          "name": "stderr",
          "text": [
            "       4/15      1.53G     0.6371          2        640: 100%|██████████| 5/5 [00:02<00:00,  1.70it/s]\n",
            "               classes   top1_acc   top5_acc: 100%|██████████| 3/3 [00:31<00:00, 10.56s/it]"
          ]
        },
        {
          "output_type": "stream",
          "name": "stdout",
          "text": [
            "                   all      0.694          1\n"
          ]
        },
        {
          "output_type": "stream",
          "name": "stderr",
          "text": [
            "\n"
          ]
        },
        {
          "output_type": "stream",
          "name": "stdout",
          "text": [
            "\n",
            "      Epoch    GPU_mem       loss  Instances       Size\n"
          ]
        },
        {
          "output_type": "stream",
          "name": "stderr",
          "text": [
            "       5/15      1.49G     0.5818          2        640: 100%|██████████| 5/5 [00:02<00:00,  2.00it/s]\n",
            "               classes   top1_acc   top5_acc: 100%|██████████| 3/3 [00:00<00:00, 16.57it/s]"
          ]
        },
        {
          "output_type": "stream",
          "name": "stdout",
          "text": [
            "                   all      0.778          1\n"
          ]
        },
        {
          "output_type": "stream",
          "name": "stderr",
          "text": [
            "\n"
          ]
        },
        {
          "output_type": "stream",
          "name": "stdout",
          "text": [
            "\n",
            "      Epoch    GPU_mem       loss  Instances       Size\n"
          ]
        },
        {
          "output_type": "stream",
          "name": "stderr",
          "text": [
            "       6/15      1.49G     0.5719          2        640: 100%|██████████| 5/5 [00:14<00:00,  2.99s/it]\n",
            "               classes   top1_acc   top5_acc: 100%|██████████| 3/3 [00:00<00:00, 16.32it/s]"
          ]
        },
        {
          "output_type": "stream",
          "name": "stdout",
          "text": [
            "                   all      0.833          1\n"
          ]
        },
        {
          "output_type": "stream",
          "name": "stderr",
          "text": [
            "\n"
          ]
        },
        {
          "output_type": "stream",
          "name": "stdout",
          "text": [
            "\n",
            "      Epoch    GPU_mem       loss  Instances       Size\n"
          ]
        },
        {
          "output_type": "stream",
          "name": "stderr",
          "text": [
            "       7/15      1.48G     0.4969          2        640: 100%|██████████| 5/5 [00:25<00:00,  5.14s/it]\n",
            "               classes   top1_acc   top5_acc: 100%|██████████| 3/3 [00:00<00:00,  4.31it/s]"
          ]
        },
        {
          "output_type": "stream",
          "name": "stdout",
          "text": [
            "                   all      0.833          1\n"
          ]
        },
        {
          "output_type": "stream",
          "name": "stderr",
          "text": [
            "\n"
          ]
        },
        {
          "output_type": "stream",
          "name": "stdout",
          "text": [
            "\n",
            "      Epoch    GPU_mem       loss  Instances       Size\n"
          ]
        },
        {
          "output_type": "stream",
          "name": "stderr",
          "text": [
            "       8/15      1.49G      0.466          2        640: 100%|██████████| 5/5 [00:24<00:00,  4.86s/it]\n",
            "               classes   top1_acc   top5_acc: 100%|██████████| 3/3 [00:02<00:00,  1.25it/s]"
          ]
        },
        {
          "output_type": "stream",
          "name": "stdout",
          "text": [
            "                   all      0.833          1\n"
          ]
        },
        {
          "output_type": "stream",
          "name": "stderr",
          "text": [
            "\n"
          ]
        },
        {
          "output_type": "stream",
          "name": "stdout",
          "text": [
            "\n",
            "      Epoch    GPU_mem       loss  Instances       Size\n"
          ]
        },
        {
          "output_type": "stream",
          "name": "stderr",
          "text": [
            "       9/15      1.49G     0.4315          2        640: 100%|██████████| 5/5 [00:19<00:00,  3.88s/it]\n",
            "               classes   top1_acc   top5_acc: 100%|██████████| 3/3 [00:06<00:00,  2.17s/it]"
          ]
        },
        {
          "output_type": "stream",
          "name": "stdout",
          "text": [
            "                   all      0.833          1\n"
          ]
        },
        {
          "output_type": "stream",
          "name": "stderr",
          "text": [
            "\n"
          ]
        },
        {
          "output_type": "stream",
          "name": "stdout",
          "text": [
            "\n",
            "      Epoch    GPU_mem       loss  Instances       Size\n"
          ]
        },
        {
          "output_type": "stream",
          "name": "stderr",
          "text": [
            "      10/15       1.5G     0.4761          2        640: 100%|██████████| 5/5 [00:15<00:00,  3.16s/it]\n",
            "               classes   top1_acc   top5_acc: 100%|██████████| 3/3 [00:07<00:00,  2.44s/it]"
          ]
        },
        {
          "output_type": "stream",
          "name": "stdout",
          "text": [
            "                   all      0.861          1\n"
          ]
        },
        {
          "output_type": "stream",
          "name": "stderr",
          "text": [
            "\n"
          ]
        },
        {
          "output_type": "stream",
          "name": "stdout",
          "text": [
            "\n",
            "      Epoch    GPU_mem       loss  Instances       Size\n"
          ]
        },
        {
          "output_type": "stream",
          "name": "stderr",
          "text": [
            "      11/15       1.5G     0.4243          2        640: 100%|██████████| 5/5 [00:17<00:00,  3.50s/it]\n",
            "               classes   top1_acc   top5_acc: 100%|██████████| 3/3 [00:11<00:00,  3.91s/it]"
          ]
        },
        {
          "output_type": "stream",
          "name": "stdout",
          "text": [
            "                   all      0.889          1\n"
          ]
        },
        {
          "output_type": "stream",
          "name": "stderr",
          "text": [
            "\n"
          ]
        },
        {
          "output_type": "stream",
          "name": "stdout",
          "text": [
            "\n",
            "      Epoch    GPU_mem       loss  Instances       Size\n"
          ]
        },
        {
          "output_type": "stream",
          "name": "stderr",
          "text": [
            "      12/15       1.5G     0.4176          2        640: 100%|██████████| 5/5 [00:11<00:00,  2.20s/it]\n",
            "               classes   top1_acc   top5_acc: 100%|██████████| 3/3 [00:12<00:00,  4.03s/it]"
          ]
        },
        {
          "output_type": "stream",
          "name": "stdout",
          "text": [
            "                   all      0.889          1\n"
          ]
        },
        {
          "output_type": "stream",
          "name": "stderr",
          "text": [
            "\n"
          ]
        },
        {
          "output_type": "stream",
          "name": "stdout",
          "text": [
            "\n",
            "      Epoch    GPU_mem       loss  Instances       Size\n"
          ]
        },
        {
          "output_type": "stream",
          "name": "stderr",
          "text": [
            "      13/15       1.5G       0.36          2        640: 100%|██████████| 5/5 [00:15<00:00,  3.18s/it]\n",
            "               classes   top1_acc   top5_acc: 100%|██████████| 3/3 [00:11<00:00,  4.00s/it]"
          ]
        },
        {
          "output_type": "stream",
          "name": "stdout",
          "text": [
            "                   all      0.889          1\n"
          ]
        },
        {
          "output_type": "stream",
          "name": "stderr",
          "text": [
            "\n"
          ]
        },
        {
          "output_type": "stream",
          "name": "stdout",
          "text": [
            "\n",
            "      Epoch    GPU_mem       loss  Instances       Size\n"
          ]
        },
        {
          "output_type": "stream",
          "name": "stderr",
          "text": [
            "      14/15      1.49G     0.3857          2        640: 100%|██████████| 5/5 [00:09<00:00,  1.82s/it]\n",
            "               classes   top1_acc   top5_acc: 100%|██████████| 3/3 [00:14<00:00,  4.71s/it]"
          ]
        },
        {
          "output_type": "stream",
          "name": "stdout",
          "text": [
            "                   all      0.889          1\n"
          ]
        },
        {
          "output_type": "stream",
          "name": "stderr",
          "text": [
            "\n"
          ]
        },
        {
          "output_type": "stream",
          "name": "stdout",
          "text": [
            "\n",
            "      Epoch    GPU_mem       loss  Instances       Size\n"
          ]
        },
        {
          "output_type": "stream",
          "name": "stderr",
          "text": [
            "      15/15      1.48G     0.3792          2        640: 100%|██████████| 5/5 [00:08<00:00,  1.72s/it]\n",
            "               classes   top1_acc   top5_acc: 100%|██████████| 3/3 [00:17<00:00,  5.72s/it]"
          ]
        },
        {
          "output_type": "stream",
          "name": "stdout",
          "text": [
            "                   all      0.889          1\n"
          ]
        },
        {
          "output_type": "stream",
          "name": "stderr",
          "text": [
            "\n"
          ]
        },
        {
          "output_type": "stream",
          "name": "stdout",
          "text": [
            "\n",
            "15 epochs completed in 0.130 hours.\n",
            "Optimizer stripped from runs/classify/train4/weights/last.pt, 10.3MB\n",
            "Optimizer stripped from runs/classify/train4/weights/best.pt, 10.3MB\n",
            "\n",
            "Validating runs/classify/train4/weights/best.pt...\n",
            "Ultralytics YOLOv8.1.27 🚀 Python-3.10.12 torch-2.2.1+cu121 CUDA:0 (Tesla T4, 15102MiB)\n",
            "YOLOv8s-cls summary (fused): 73 layers, 5077762 parameters, 0 gradients, 12.4 GFLOPs\n",
            "\u001b[34m\u001b[1mtrain:\u001b[0m /content/drive/MyDrive/Colab Notebooks/Computer Vision/Photos/train... found 42 images in 2 classes ✅ \n",
            "\u001b[34m\u001b[1mval:\u001b[0m /content/drive/MyDrive/Colab Notebooks/Computer Vision/Photos/val... found 40 images in 2 classes ✅ \n",
            "\u001b[34m\u001b[1mtest:\u001b[0m None...\n"
          ]
        },
        {
          "output_type": "stream",
          "name": "stderr",
          "text": [
            "               classes   top1_acc   top5_acc: 100%|██████████| 3/3 [00:10<00:00,  3.56s/it]\n"
          ]
        },
        {
          "output_type": "stream",
          "name": "stdout",
          "text": [
            "                   all      0.889          1\n",
            "Speed: 0.8ms preprocess, 3.0ms inference, 0.0ms loss, 0.0ms postprocess per image\n",
            "Results saved to \u001b[1mruns/classify/train4\u001b[0m\n",
            "Results saved to \u001b[1mruns/classify/train4\u001b[0m\n"
          ]
        },
        {
          "output_type": "execute_result",
          "data": {
            "text/plain": [
              "ultralytics.utils.metrics.ClassifyMetrics object with attributes:\n",
              "\n",
              "confusion_matrix: <ultralytics.utils.metrics.ConfusionMatrix object at 0x7c22102ae470>\n",
              "curves: []\n",
              "curves_results: []\n",
              "fitness: 0.9444444477558136\n",
              "keys: ['metrics/accuracy_top1', 'metrics/accuracy_top5']\n",
              "results_dict: {'metrics/accuracy_top1': 0.8888888955116272, 'metrics/accuracy_top5': 1.0, 'fitness': 0.9444444477558136}\n",
              "save_dir: PosixPath('runs/classify/train4')\n",
              "speed: {'preprocess': 0.7932053671942817, 'inference': 3.012537956237793, 'loss': 0.0012450748019748265, 'postprocess': 0.0011391109890407985}\n",
              "task: 'classify'\n",
              "top1: 0.8888888955116272\n",
              "top5: 1.0"
            ]
          },
          "metadata": {},
          "execution_count": 45
        }
      ]
    },
    {
      "cell_type": "markdown",
      "source": [
        "### Model 4 (m, epochs=25,patience=5,batch=8, imgsz=640) (train6)"
      ],
      "metadata": {
        "id": "20FkwvkzGoad"
      }
    },
    {
      "cell_type": "code",
      "source": [
        "model4 = YOLO('yolov8m-cls.pt')  # load a pretrained YOLOv8n classification model"
      ],
      "metadata": {
        "colab": {
          "base_uri": "https://localhost:8080/"
        },
        "id": "-Ipfj2gjGn8l",
        "outputId": "9febb358-4b0b-4702-e7bc-79eda2f6823b"
      },
      "execution_count": 11,
      "outputs": [
        {
          "output_type": "stream",
          "name": "stdout",
          "text": [
            "Downloading https://github.com/ultralytics/assets/releases/download/v8.1.0/yolov8m-cls.pt to 'yolov8m-cls.pt'...\n"
          ]
        },
        {
          "output_type": "stream",
          "name": "stderr",
          "text": [
            "100%|██████████| 32.7M/32.7M [00:00<00:00, 97.5MB/s]\n"
          ]
        }
      ]
    },
    {
      "cell_type": "code",
      "source": [
        "#from previous models, there is no need for lr0, it determines it automatically\n",
        "model4.train(data=\"/content/drive/MyDrive/Colab Notebooks/Computer Vision/Photos\",epochs=25,patience=5,batch=8, imgsz=640)"
      ],
      "metadata": {
        "colab": {
          "base_uri": "https://localhost:8080/"
        },
        "id": "OSkoBFDBGw3G",
        "outputId": "2faf8598-0a5a-4872-865d-b9cc09af6cf0"
      },
      "execution_count": 13,
      "outputs": [
        {
          "output_type": "stream",
          "name": "stdout",
          "text": [
            "Ultralytics YOLOv8.1.27 🚀 Python-3.10.12 torch-2.2.1+cu121 CPU (Intel Xeon 2.20GHz)\n",
            "\u001b[34m\u001b[1mengine/trainer: \u001b[0mtask=classify, mode=train, model=yolov8m-cls.pt, data=/content/drive/MyDrive/Colab Notebooks/Computer Vision/Photos, epochs=25, time=None, patience=5, batch=8, imgsz=640, save=True, save_period=-1, cache=False, device=None, workers=8, project=None, name=train6, exist_ok=False, pretrained=True, optimizer=auto, verbose=True, seed=0, deterministic=True, single_cls=False, rect=False, cos_lr=False, close_mosaic=10, resume=False, amp=True, fraction=1.0, profile=False, freeze=None, multi_scale=False, overlap_mask=True, mask_ratio=4, dropout=0.0, val=True, split=val, save_json=False, save_hybrid=False, conf=None, iou=0.7, max_det=300, half=False, dnn=False, plots=True, source=None, vid_stride=1, stream_buffer=False, visualize=False, augment=False, agnostic_nms=False, classes=None, retina_masks=False, embed=None, show=False, save_frames=False, save_txt=False, save_conf=False, save_crop=False, show_labels=True, show_conf=True, show_boxes=True, line_width=None, format=torchscript, keras=False, optimize=False, int8=False, dynamic=False, simplify=False, opset=None, workspace=4, nms=False, lr0=0.01, lrf=0.01, momentum=0.937, weight_decay=0.0005, warmup_epochs=3.0, warmup_momentum=0.8, warmup_bias_lr=0.1, box=7.5, cls=0.5, dfl=1.5, pose=12.0, kobj=1.0, label_smoothing=0.0, nbs=64, hsv_h=0.015, hsv_s=0.7, hsv_v=0.4, degrees=0.0, translate=0.1, scale=0.5, shear=0.0, perspective=0.0, flipud=0.0, fliplr=0.5, mosaic=1.0, mixup=0.0, copy_paste=0.0, auto_augment=randaugment, erasing=0.4, crop_fraction=1.0, cfg=None, tracker=botsort.yaml, save_dir=runs/classify/train6\n",
            "\u001b[34m\u001b[1mtrain:\u001b[0m /content/drive/MyDrive/Colab Notebooks/Computer Vision/Photos/train... found 42 images in 2 classes ✅ \n",
            "\u001b[34m\u001b[1mval:\u001b[0m /content/drive/MyDrive/Colab Notebooks/Computer Vision/Photos/val... found 40 images in 2 classes ✅ \n",
            "\u001b[34m\u001b[1mtest:\u001b[0m None...\n",
            "\n",
            "                   from  n    params  module                                       arguments                     \n",
            "  0                  -1  1      1392  ultralytics.nn.modules.conv.Conv             [3, 48, 3, 2]                 \n",
            "  1                  -1  1     41664  ultralytics.nn.modules.conv.Conv             [48, 96, 3, 2]                \n",
            "  2                  -1  2    111360  ultralytics.nn.modules.block.C2f             [96, 96, 2, True]             \n",
            "  3                  -1  1    166272  ultralytics.nn.modules.conv.Conv             [96, 192, 3, 2]               \n",
            "  4                  -1  4    813312  ultralytics.nn.modules.block.C2f             [192, 192, 4, True]           \n",
            "  5                  -1  1    664320  ultralytics.nn.modules.conv.Conv             [192, 384, 3, 2]              \n",
            "  6                  -1  4   3248640  ultralytics.nn.modules.block.C2f             [384, 384, 4, True]           \n",
            "  7                  -1  1   2655744  ultralytics.nn.modules.conv.Conv             [384, 768, 3, 2]              \n",
            "  8                  -1  2   7084032  ultralytics.nn.modules.block.C2f             [768, 768, 2, True]           \n",
            "  9                  -1  1    988162  ultralytics.nn.modules.head.Classify         [768, 2]                      \n",
            "YOLOv8m-cls summary: 141 layers, 15774898 parameters, 15774898 gradients, 41.9 GFLOPs\n",
            "Transferred 230/230 items from pretrained weights\n",
            "\u001b[34m\u001b[1mTensorBoard: \u001b[0mStart with 'tensorboard --logdir runs/classify/train6', view at http://localhost:6006/\n"
          ]
        },
        {
          "output_type": "stream",
          "name": "stderr",
          "text": [
            "\u001b[34m\u001b[1mtrain: \u001b[0mScanning /content/drive/MyDrive/Colab Notebooks/Computer Vision/Photos/train... 34 images, 0 corrupt: 100%|██████████| 34/34 [00:00<?, ?it/s]"
          ]
        },
        {
          "output_type": "stream",
          "name": "stdout",
          "text": [
            "\u001b[34m\u001b[1mtrain: \u001b[0mWARNING ⚠️ /content/drive/MyDrive/Colab Notebooks/Computer Vision/Photos/train/Apples/20240313_135836.jpg: corrupt JPEG restored and saved\n",
            "\u001b[34m\u001b[1mtrain: \u001b[0mWARNING ⚠️ /content/drive/MyDrive/Colab Notebooks/Computer Vision/Photos/train/Apples/20240313_140123.jpg: corrupt JPEG restored and saved\n",
            "\u001b[34m\u001b[1mtrain: \u001b[0mWARNING ⚠️ /content/drive/MyDrive/Colab Notebooks/Computer Vision/Photos/train/Apples/20240313_140200.jpg: corrupt JPEG restored and saved\n",
            "\u001b[34m\u001b[1mtrain: \u001b[0mWARNING ⚠️ /content/drive/MyDrive/Colab Notebooks/Computer Vision/Photos/train/Apples/20240313_140230.jpg: corrupt JPEG restored and saved\n",
            "\u001b[34m\u001b[1mtrain: \u001b[0mWARNING ⚠️ /content/drive/MyDrive/Colab Notebooks/Computer Vision/Photos/train/Apples/20240313_140248.jpg: corrupt JPEG restored and saved\n",
            "\u001b[34m\u001b[1mtrain: \u001b[0mWARNING ⚠️ /content/drive/MyDrive/Colab Notebooks/Computer Vision/Photos/train/Apples/20240313_140349.jpg: corrupt JPEG restored and saved\n",
            "\u001b[34m\u001b[1mtrain: \u001b[0mWARNING ⚠️ /content/drive/MyDrive/Colab Notebooks/Computer Vision/Photos/train/Apples/20240313_140812.jpg: corrupt JPEG restored and saved\n",
            "\u001b[34m\u001b[1mtrain: \u001b[0mWARNING ⚠️ /content/drive/MyDrive/Colab Notebooks/Computer Vision/Photos/train/Apples/20240313_140849.jpg: corrupt JPEG restored and saved\n",
            "\u001b[34m\u001b[1mtrain: \u001b[0mWARNING ⚠️ /content/drive/MyDrive/Colab Notebooks/Computer Vision/Photos/train/Apples/20240313_141125.jpg: corrupt JPEG restored and saved\n",
            "\u001b[34m\u001b[1mtrain: \u001b[0mWARNING ⚠️ /content/drive/MyDrive/Colab Notebooks/Computer Vision/Photos/train/Apples/20240313_141132.jpg: corrupt JPEG restored and saved\n",
            "\u001b[34m\u001b[1mtrain: \u001b[0mWARNING ⚠️ /content/drive/MyDrive/Colab Notebooks/Computer Vision/Photos/train/Apples/20240313_141149.jpg: corrupt JPEG restored and saved\n",
            "\u001b[34m\u001b[1mtrain: \u001b[0mWARNING ⚠️ /content/drive/MyDrive/Colab Notebooks/Computer Vision/Photos/train/Red Onion/20240313_140433.jpg: corrupt JPEG restored and saved\n",
            "\u001b[34m\u001b[1mtrain: \u001b[0mWARNING ⚠️ /content/drive/MyDrive/Colab Notebooks/Computer Vision/Photos/train/Red Onion/20240313_140448.jpg: corrupt JPEG restored and saved\n",
            "\u001b[34m\u001b[1mtrain: \u001b[0mWARNING ⚠️ /content/drive/MyDrive/Colab Notebooks/Computer Vision/Photos/train/Red Onion/20240313_140500.jpg: corrupt JPEG restored and saved\n",
            "\u001b[34m\u001b[1mtrain: \u001b[0mWARNING ⚠️ /content/drive/MyDrive/Colab Notebooks/Computer Vision/Photos/train/Red Onion/20240313_140609.jpg: corrupt JPEG restored and saved\n",
            "\u001b[34m\u001b[1mtrain: \u001b[0mWARNING ⚠️ /content/drive/MyDrive/Colab Notebooks/Computer Vision/Photos/train/Red Onion/20240313_140615.jpg: corrupt JPEG restored and saved\n",
            "\u001b[34m\u001b[1mtrain: \u001b[0mWARNING ⚠️ /content/drive/MyDrive/Colab Notebooks/Computer Vision/Photos/train/Red Onion/20240313_140942.jpg: corrupt JPEG restored and saved\n",
            "\u001b[34m\u001b[1mtrain: \u001b[0mWARNING ⚠️ /content/drive/MyDrive/Colab Notebooks/Computer Vision/Photos/train/Red Onion/20240313_141028.jpg: corrupt JPEG restored and saved\n",
            "\u001b[34m\u001b[1mtrain: \u001b[0mWARNING ⚠️ /content/drive/MyDrive/Colab Notebooks/Computer Vision/Photos/train/Red Onion/20240313_141036.jpg: corrupt JPEG restored and saved\n"
          ]
        },
        {
          "output_type": "stream",
          "name": "stderr",
          "text": [
            "\n",
            "\u001b[34m\u001b[1mval: \u001b[0mScanning /content/drive/MyDrive/Colab Notebooks/Computer Vision/Photos/val... 36 images, 0 corrupt: 100%|██████████| 36/36 [00:00<?, ?it/s]"
          ]
        },
        {
          "output_type": "stream",
          "name": "stdout",
          "text": [
            "\u001b[34m\u001b[1mval: \u001b[0mWARNING ⚠️ /content/drive/MyDrive/Colab Notebooks/Computer Vision/Photos/val/Apples/20240313_135641.jpg: corrupt JPEG restored and saved\n",
            "\u001b[34m\u001b[1mval: \u001b[0mWARNING ⚠️ /content/drive/MyDrive/Colab Notebooks/Computer Vision/Photos/val/Apples/20240313_140215.jpg: corrupt JPEG restored and saved\n",
            "\u001b[34m\u001b[1mval: \u001b[0mWARNING ⚠️ /content/drive/MyDrive/Colab Notebooks/Computer Vision/Photos/val/Apples/20240313_140243.jpg: corrupt JPEG restored and saved\n",
            "\u001b[34m\u001b[1mval: \u001b[0mWARNING ⚠️ /content/drive/MyDrive/Colab Notebooks/Computer Vision/Photos/val/Apples/20240313_140304.jpg: corrupt JPEG restored and saved\n",
            "\u001b[34m\u001b[1mval: \u001b[0mWARNING ⚠️ /content/drive/MyDrive/Colab Notebooks/Computer Vision/Photos/val/Apples/20240313_140314.jpg: corrupt JPEG restored and saved\n",
            "\u001b[34m\u001b[1mval: \u001b[0mWARNING ⚠️ /content/drive/MyDrive/Colab Notebooks/Computer Vision/Photos/val/Apples/20240313_140328.jpg: corrupt JPEG restored and saved\n",
            "\u001b[34m\u001b[1mval: \u001b[0mWARNING ⚠️ /content/drive/MyDrive/Colab Notebooks/Computer Vision/Photos/val/Apples/20240313_140337.jpg: corrupt JPEG restored and saved\n",
            "\u001b[34m\u001b[1mval: \u001b[0mWARNING ⚠️ /content/drive/MyDrive/Colab Notebooks/Computer Vision/Photos/val/Apples/20240313_140356.jpg: corrupt JPEG restored and saved\n",
            "\u001b[34m\u001b[1mval: \u001b[0mWARNING ⚠️ /content/drive/MyDrive/Colab Notebooks/Computer Vision/Photos/val/Apples/20240313_140821.jpg: corrupt JPEG restored and saved\n",
            "\u001b[34m\u001b[1mval: \u001b[0mWARNING ⚠️ /content/drive/MyDrive/Colab Notebooks/Computer Vision/Photos/val/Apples/20240313_140841.jpg: corrupt JPEG restored and saved\n",
            "\u001b[34m\u001b[1mval: \u001b[0mWARNING ⚠️ /content/drive/MyDrive/Colab Notebooks/Computer Vision/Photos/val/Apples/20240313_140905.jpg: corrupt JPEG restored and saved\n",
            "\u001b[34m\u001b[1mval: \u001b[0mWARNING ⚠️ /content/drive/MyDrive/Colab Notebooks/Computer Vision/Photos/val/Apples/20240313_140917.jpg: corrupt JPEG restored and saved\n",
            "\u001b[34m\u001b[1mval: \u001b[0mWARNING ⚠️ /content/drive/MyDrive/Colab Notebooks/Computer Vision/Photos/val/Apples/20240313_141129.jpg: corrupt JPEG restored and saved\n",
            "\u001b[34m\u001b[1mval: \u001b[0mWARNING ⚠️ /content/drive/MyDrive/Colab Notebooks/Computer Vision/Photos/val/Apples/20240313_141145.jpg: corrupt JPEG restored and saved\n",
            "\u001b[34m\u001b[1mval: \u001b[0mWARNING ⚠️ /content/drive/MyDrive/Colab Notebooks/Computer Vision/Photos/val/Apples/20240313_141208.jpg: corrupt JPEG restored and saved\n",
            "\u001b[34m\u001b[1mval: \u001b[0mWARNING ⚠️ /content/drive/MyDrive/Colab Notebooks/Computer Vision/Photos/val/Red Onion/20240313_140418.jpg: corrupt JPEG restored and saved\n",
            "\u001b[34m\u001b[1mval: \u001b[0mWARNING ⚠️ /content/drive/MyDrive/Colab Notebooks/Computer Vision/Photos/val/Red Onion/20240313_140439.jpg: corrupt JPEG restored and saved\n",
            "\u001b[34m\u001b[1mval: \u001b[0mWARNING ⚠️ /content/drive/MyDrive/Colab Notebooks/Computer Vision/Photos/val/Red Onion/20240313_140454.jpg: corrupt JPEG restored and saved\n",
            "\u001b[34m\u001b[1mval: \u001b[0mWARNING ⚠️ /content/drive/MyDrive/Colab Notebooks/Computer Vision/Photos/val/Red Onion/20240313_140609.jpg: corrupt JPEG restored and saved\n",
            "\u001b[34m\u001b[1mval: \u001b[0mWARNING ⚠️ /content/drive/MyDrive/Colab Notebooks/Computer Vision/Photos/val/Red Onion/20240313_141025.jpg: corrupt JPEG restored and saved\n",
            "\u001b[34m\u001b[1mval: \u001b[0mWARNING ⚠️ /content/drive/MyDrive/Colab Notebooks/Computer Vision/Photos/val/Red Onion/20240313_141049.jpg: corrupt JPEG restored and saved\n",
            "\u001b[34m\u001b[1moptimizer:\u001b[0m 'optimizer=auto' found, ignoring 'lr0=0.01' and 'momentum=0.937' and determining best 'optimizer', 'lr0' and 'momentum' automatically... \n",
            "\u001b[34m\u001b[1moptimizer:\u001b[0m AdamW(lr=0.000714, momentum=0.9) with parameter groups 38 weight(decay=0.0), 39 weight(decay=0.0005), 39 bias(decay=0.0)\n"
          ]
        },
        {
          "output_type": "stream",
          "name": "stderr",
          "text": [
            "\n"
          ]
        },
        {
          "output_type": "stream",
          "name": "stdout",
          "text": [
            "\u001b[34m\u001b[1mTensorBoard: \u001b[0mmodel graph visualization added ✅\n",
            "Image sizes 640 train, 640 val\n",
            "Using 0 dataloader workers\n",
            "Logging results to \u001b[1mruns/classify/train6\u001b[0m\n",
            "Starting training for 25 epochs...\n",
            "\n",
            "      Epoch    GPU_mem       loss  Instances       Size\n"
          ]
        },
        {
          "output_type": "stream",
          "name": "stderr",
          "text": [
            "       1/25         0G     0.6906          2        640: 100%|██████████| 5/5 [02:24<00:00, 28.94s/it]\n",
            "               classes   top1_acc   top5_acc: 100%|██████████| 3/3 [00:51<00:00, 17.31s/it]"
          ]
        },
        {
          "output_type": "stream",
          "name": "stdout",
          "text": [
            "                   all      0.444          1\n"
          ]
        },
        {
          "output_type": "stream",
          "name": "stderr",
          "text": [
            "\n"
          ]
        },
        {
          "output_type": "stream",
          "name": "stdout",
          "text": [
            "\n",
            "      Epoch    GPU_mem       loss  Instances       Size\n"
          ]
        },
        {
          "output_type": "stream",
          "name": "stderr",
          "text": [
            "       2/25         0G     0.6936          2        640: 100%|██████████| 5/5 [02:19<00:00, 27.82s/it]\n",
            "               classes   top1_acc   top5_acc: 100%|██████████| 3/3 [00:48<00:00, 16.02s/it]"
          ]
        },
        {
          "output_type": "stream",
          "name": "stdout",
          "text": [
            "                   all      0.528          1\n"
          ]
        },
        {
          "output_type": "stream",
          "name": "stderr",
          "text": [
            "\n"
          ]
        },
        {
          "output_type": "stream",
          "name": "stdout",
          "text": [
            "\n",
            "      Epoch    GPU_mem       loss  Instances       Size\n"
          ]
        },
        {
          "output_type": "stream",
          "name": "stderr",
          "text": [
            "       3/25         0G     0.6643          2        640: 100%|██████████| 5/5 [02:09<00:00, 25.93s/it]\n",
            "               classes   top1_acc   top5_acc: 100%|██████████| 3/3 [00:50<00:00, 16.74s/it]"
          ]
        },
        {
          "output_type": "stream",
          "name": "stdout",
          "text": [
            "                   all      0.611          1\n"
          ]
        },
        {
          "output_type": "stream",
          "name": "stderr",
          "text": [
            "\n"
          ]
        },
        {
          "output_type": "stream",
          "name": "stdout",
          "text": [
            "\n",
            "      Epoch    GPU_mem       loss  Instances       Size\n"
          ]
        },
        {
          "output_type": "stream",
          "name": "stderr",
          "text": [
            "       4/25         0G     0.6048          2        640: 100%|██████████| 5/5 [02:10<00:00, 26.08s/it]\n",
            "               classes   top1_acc   top5_acc: 100%|██████████| 3/3 [00:51<00:00, 17.16s/it]"
          ]
        },
        {
          "output_type": "stream",
          "name": "stdout",
          "text": [
            "                   all      0.722          1\n"
          ]
        },
        {
          "output_type": "stream",
          "name": "stderr",
          "text": [
            "\n"
          ]
        },
        {
          "output_type": "stream",
          "name": "stdout",
          "text": [
            "\n",
            "      Epoch    GPU_mem       loss  Instances       Size\n"
          ]
        },
        {
          "output_type": "stream",
          "name": "stderr",
          "text": [
            "       5/25         0G     0.5317          2        640: 100%|██████████| 5/5 [02:15<00:00, 27.02s/it]\n",
            "               classes   top1_acc   top5_acc: 100%|██████████| 3/3 [00:49<00:00, 16.52s/it]"
          ]
        },
        {
          "output_type": "stream",
          "name": "stdout",
          "text": [
            "                   all      0.861          1\n"
          ]
        },
        {
          "output_type": "stream",
          "name": "stderr",
          "text": [
            "\n"
          ]
        },
        {
          "output_type": "stream",
          "name": "stdout",
          "text": [
            "\n",
            "      Epoch    GPU_mem       loss  Instances       Size\n"
          ]
        },
        {
          "output_type": "stream",
          "name": "stderr",
          "text": [
            "       6/25         0G     0.4761          2        640: 100%|██████████| 5/5 [02:05<00:00, 25.10s/it]\n",
            "               classes   top1_acc   top5_acc: 100%|██████████| 3/3 [00:50<00:00, 16.97s/it]"
          ]
        },
        {
          "output_type": "stream",
          "name": "stdout",
          "text": [
            "                   all      0.917          1\n"
          ]
        },
        {
          "output_type": "stream",
          "name": "stderr",
          "text": [
            "\n"
          ]
        },
        {
          "output_type": "stream",
          "name": "stdout",
          "text": [
            "\n",
            "      Epoch    GPU_mem       loss  Instances       Size\n"
          ]
        },
        {
          "output_type": "stream",
          "name": "stderr",
          "text": [
            "       7/25         0G     0.5276          2        640: 100%|██████████| 5/5 [02:05<00:00, 25.20s/it]\n",
            "               classes   top1_acc   top5_acc: 100%|██████████| 3/3 [00:50<00:00, 16.73s/it]"
          ]
        },
        {
          "output_type": "stream",
          "name": "stdout",
          "text": [
            "                   all      0.944          1\n"
          ]
        },
        {
          "output_type": "stream",
          "name": "stderr",
          "text": [
            "\n"
          ]
        },
        {
          "output_type": "stream",
          "name": "stdout",
          "text": [
            "\n",
            "      Epoch    GPU_mem       loss  Instances       Size\n"
          ]
        },
        {
          "output_type": "stream",
          "name": "stderr",
          "text": [
            "       8/25         0G     0.3914          2        640: 100%|██████████| 5/5 [02:04<00:00, 24.85s/it]\n",
            "               classes   top1_acc   top5_acc: 100%|██████████| 3/3 [00:51<00:00, 17.24s/it]"
          ]
        },
        {
          "output_type": "stream",
          "name": "stdout",
          "text": [
            "                   all      0.944          1\n"
          ]
        },
        {
          "output_type": "stream",
          "name": "stderr",
          "text": [
            "\n"
          ]
        },
        {
          "output_type": "stream",
          "name": "stdout",
          "text": [
            "\n",
            "      Epoch    GPU_mem       loss  Instances       Size\n"
          ]
        },
        {
          "output_type": "stream",
          "name": "stderr",
          "text": [
            "       9/25         0G     0.4649          2        640: 100%|██████████| 5/5 [02:07<00:00, 25.54s/it]\n",
            "               classes   top1_acc   top5_acc: 100%|██████████| 3/3 [00:51<00:00, 17.25s/it]"
          ]
        },
        {
          "output_type": "stream",
          "name": "stdout",
          "text": [
            "                   all      0.944          1\n"
          ]
        },
        {
          "output_type": "stream",
          "name": "stderr",
          "text": [
            "\n"
          ]
        },
        {
          "output_type": "stream",
          "name": "stdout",
          "text": [
            "\n",
            "      Epoch    GPU_mem       loss  Instances       Size\n"
          ]
        },
        {
          "output_type": "stream",
          "name": "stderr",
          "text": [
            "      10/25         0G     0.3493          2        640: 100%|██████████| 5/5 [02:06<00:00, 25.22s/it]\n",
            "               classes   top1_acc   top5_acc: 100%|██████████| 3/3 [00:49<00:00, 16.65s/it]"
          ]
        },
        {
          "output_type": "stream",
          "name": "stdout",
          "text": [
            "                   all      0.944          1\n"
          ]
        },
        {
          "output_type": "stream",
          "name": "stderr",
          "text": [
            "\n"
          ]
        },
        {
          "output_type": "stream",
          "name": "stdout",
          "text": [
            "\n",
            "      Epoch    GPU_mem       loss  Instances       Size\n"
          ]
        },
        {
          "output_type": "stream",
          "name": "stderr",
          "text": [
            "      11/25         0G     0.3028          2        640: 100%|██████████| 5/5 [02:16<00:00, 27.36s/it]\n",
            "               classes   top1_acc   top5_acc: 100%|██████████| 3/3 [00:55<00:00, 18.58s/it]"
          ]
        },
        {
          "output_type": "stream",
          "name": "stdout",
          "text": [
            "                   all      0.972          1\n"
          ]
        },
        {
          "output_type": "stream",
          "name": "stderr",
          "text": [
            "\n"
          ]
        },
        {
          "output_type": "stream",
          "name": "stdout",
          "text": [
            "\n",
            "      Epoch    GPU_mem       loss  Instances       Size\n"
          ]
        },
        {
          "output_type": "stream",
          "name": "stderr",
          "text": [
            "      12/25         0G      0.315          2        640: 100%|██████████| 5/5 [02:29<00:00, 29.92s/it]\n",
            "               classes   top1_acc   top5_acc: 100%|██████████| 3/3 [00:58<00:00, 19.60s/it]"
          ]
        },
        {
          "output_type": "stream",
          "name": "stdout",
          "text": [
            "                   all          1          1\n"
          ]
        },
        {
          "output_type": "stream",
          "name": "stderr",
          "text": [
            "\n"
          ]
        },
        {
          "output_type": "stream",
          "name": "stdout",
          "text": [
            "\n",
            "      Epoch    GPU_mem       loss  Instances       Size\n"
          ]
        },
        {
          "output_type": "stream",
          "name": "stderr",
          "text": [
            "      13/25         0G     0.3993          2        640: 100%|██████████| 5/5 [02:17<00:00, 27.42s/it]\n",
            "               classes   top1_acc   top5_acc: 100%|██████████| 3/3 [00:51<00:00, 17.09s/it]"
          ]
        },
        {
          "output_type": "stream",
          "name": "stdout",
          "text": [
            "                   all          1          1\n"
          ]
        },
        {
          "output_type": "stream",
          "name": "stderr",
          "text": [
            "\n"
          ]
        },
        {
          "output_type": "stream",
          "name": "stdout",
          "text": [
            "\n",
            "      Epoch    GPU_mem       loss  Instances       Size\n"
          ]
        },
        {
          "output_type": "stream",
          "name": "stderr",
          "text": [
            "      14/25         0G     0.2231          2        640: 100%|██████████| 5/5 [02:11<00:00, 26.24s/it]\n",
            "               classes   top1_acc   top5_acc: 100%|██████████| 3/3 [00:54<00:00, 18.28s/it]"
          ]
        },
        {
          "output_type": "stream",
          "name": "stdout",
          "text": [
            "                   all          1          1\n"
          ]
        },
        {
          "output_type": "stream",
          "name": "stderr",
          "text": [
            "\n"
          ]
        },
        {
          "output_type": "stream",
          "name": "stdout",
          "text": [
            "\n",
            "      Epoch    GPU_mem       loss  Instances       Size\n"
          ]
        },
        {
          "output_type": "stream",
          "name": "stderr",
          "text": [
            "      15/25         0G      0.206          2        640: 100%|██████████| 5/5 [02:19<00:00, 27.83s/it]\n",
            "               classes   top1_acc   top5_acc: 100%|██████████| 3/3 [00:54<00:00, 18.08s/it]"
          ]
        },
        {
          "output_type": "stream",
          "name": "stdout",
          "text": [
            "                   all          1          1\n"
          ]
        },
        {
          "output_type": "stream",
          "name": "stderr",
          "text": [
            "\n"
          ]
        },
        {
          "output_type": "stream",
          "name": "stdout",
          "text": [
            "\n",
            "      Epoch    GPU_mem       loss  Instances       Size\n"
          ]
        },
        {
          "output_type": "stream",
          "name": "stderr",
          "text": [
            "      16/25         0G     0.1806          2        640: 100%|██████████| 5/5 [02:05<00:00, 25.14s/it]\n",
            "               classes   top1_acc   top5_acc: 100%|██████████| 3/3 [00:51<00:00, 17.22s/it]"
          ]
        },
        {
          "output_type": "stream",
          "name": "stdout",
          "text": [
            "                   all          1          1\n"
          ]
        },
        {
          "output_type": "stream",
          "name": "stderr",
          "text": [
            "\n"
          ]
        },
        {
          "output_type": "stream",
          "name": "stdout",
          "text": [
            "\n",
            "      Epoch    GPU_mem       loss  Instances       Size\n"
          ]
        },
        {
          "output_type": "stream",
          "name": "stderr",
          "text": [
            "      17/25         0G     0.1326          2        640: 100%|██████████| 5/5 [02:04<00:00, 24.90s/it]\n",
            "               classes   top1_acc   top5_acc: 100%|██████████| 3/3 [00:51<00:00, 17.06s/it]"
          ]
        },
        {
          "output_type": "stream",
          "name": "stdout",
          "text": [
            "                   all      0.972          1\n"
          ]
        },
        {
          "output_type": "stream",
          "name": "stderr",
          "text": [
            "\n"
          ]
        },
        {
          "output_type": "stream",
          "name": "stdout",
          "text": [
            "\n",
            "      Epoch    GPU_mem       loss  Instances       Size\n"
          ]
        },
        {
          "output_type": "stream",
          "name": "stderr",
          "text": [
            "      18/25         0G      0.331          2        640: 100%|██████████| 5/5 [02:08<00:00, 25.65s/it]\n",
            "               classes   top1_acc   top5_acc: 100%|██████████| 3/3 [00:54<00:00, 18.24s/it]"
          ]
        },
        {
          "output_type": "stream",
          "name": "stdout",
          "text": [
            "                   all      0.972          1\n"
          ]
        },
        {
          "output_type": "stream",
          "name": "stderr",
          "text": [
            "\n"
          ]
        },
        {
          "output_type": "stream",
          "name": "stdout",
          "text": [
            "\n",
            "      Epoch    GPU_mem       loss  Instances       Size\n"
          ]
        },
        {
          "output_type": "stream",
          "name": "stderr",
          "text": [
            "      19/25         0G     0.2054          2        640: 100%|██████████| 5/5 [02:05<00:00, 25.00s/it]\n",
            "               classes   top1_acc   top5_acc: 100%|██████████| 3/3 [00:49<00:00, 16.54s/it]"
          ]
        },
        {
          "output_type": "stream",
          "name": "stdout",
          "text": [
            "                   all      0.972          1\n"
          ]
        },
        {
          "output_type": "stream",
          "name": "stderr",
          "text": [
            "\n"
          ]
        },
        {
          "output_type": "stream",
          "name": "stdout",
          "text": [
            "\n",
            "      Epoch    GPU_mem       loss  Instances       Size\n"
          ]
        },
        {
          "output_type": "stream",
          "name": "stderr",
          "text": [
            "      20/25         0G      0.199          2        640: 100%|██████████| 5/5 [02:06<00:00, 25.37s/it]\n",
            "               classes   top1_acc   top5_acc: 100%|██████████| 3/3 [00:48<00:00, 16.10s/it]"
          ]
        },
        {
          "output_type": "stream",
          "name": "stdout",
          "text": [
            "                   all      0.972          1\n"
          ]
        },
        {
          "output_type": "stream",
          "name": "stderr",
          "text": [
            "\n"
          ]
        },
        {
          "output_type": "stream",
          "name": "stdout",
          "text": [
            "\n",
            "      Epoch    GPU_mem       loss  Instances       Size\n"
          ]
        },
        {
          "output_type": "stream",
          "name": "stderr",
          "text": [
            "      21/25         0G     0.1373          2        640: 100%|██████████| 5/5 [02:03<00:00, 24.80s/it]\n",
            "               classes   top1_acc   top5_acc: 100%|██████████| 3/3 [00:51<00:00, 17.07s/it]"
          ]
        },
        {
          "output_type": "stream",
          "name": "stdout",
          "text": [
            "                   all      0.972          1\n",
            "Stopping training early as no improvement observed in last 5 epochs. Best results observed at epoch 16, best model saved as best.pt.\n",
            "To update EarlyStopping(patience=5) pass a new patience value, i.e. `patience=300` or use `patience=0` to disable EarlyStopping.\n"
          ]
        },
        {
          "output_type": "stream",
          "name": "stderr",
          "text": [
            "\n"
          ]
        },
        {
          "output_type": "stream",
          "name": "stdout",
          "text": [
            "\n",
            "21 epochs completed in 1.092 hours.\n",
            "Optimizer stripped from runs/classify/train6/weights/last.pt, 31.7MB\n",
            "Optimizer stripped from runs/classify/train6/weights/best.pt, 31.7MB\n",
            "\n",
            "Validating runs/classify/train6/weights/best.pt...\n",
            "Ultralytics YOLOv8.1.27 🚀 Python-3.10.12 torch-2.2.1+cu121 CPU (Intel Xeon 2.20GHz)\n",
            "YOLOv8m-cls summary (fused): 103 layers, 15765218 parameters, 0 gradients, 41.6 GFLOPs\n",
            "\u001b[34m\u001b[1mtrain:\u001b[0m /content/drive/MyDrive/Colab Notebooks/Computer Vision/Photos/train... found 42 images in 2 classes ✅ \n",
            "\u001b[34m\u001b[1mval:\u001b[0m /content/drive/MyDrive/Colab Notebooks/Computer Vision/Photos/val... found 40 images in 2 classes ✅ \n",
            "\u001b[34m\u001b[1mtest:\u001b[0m None...\n"
          ]
        },
        {
          "output_type": "stream",
          "name": "stderr",
          "text": [
            "               classes   top1_acc   top5_acc: 100%|██████████| 3/3 [00:54<00:00, 18.08s/it]\n"
          ]
        },
        {
          "output_type": "stream",
          "name": "stdout",
          "text": [
            "                   all          1          1\n",
            "Speed: 0.0ms preprocess, 1002.4ms inference, 0.0ms loss, 0.0ms postprocess per image\n",
            "Results saved to \u001b[1mruns/classify/train6\u001b[0m\n",
            "Results saved to \u001b[1mruns/classify/train6\u001b[0m\n"
          ]
        },
        {
          "output_type": "execute_result",
          "data": {
            "text/plain": [
              "ultralytics.utils.metrics.ClassifyMetrics object with attributes:\n",
              "\n",
              "confusion_matrix: <ultralytics.utils.metrics.ConfusionMatrix object at 0x7e8fa3b23400>\n",
              "curves: []\n",
              "curves_results: []\n",
              "fitness: 1.0\n",
              "keys: ['metrics/accuracy_top1', 'metrics/accuracy_top5']\n",
              "results_dict: {'metrics/accuracy_top1': 1.0, 'metrics/accuracy_top5': 1.0, 'fitness': 1.0}\n",
              "save_dir: PosixPath('runs/classify/train6')\n",
              "speed: {'preprocess': 0.002377563052707248, 'inference': 1002.3579663700528, 'loss': 0.0003178914388020833, 'postprocess': 0.00021192762586805553}\n",
              "task: 'classify'\n",
              "top1: 1.0\n",
              "top5: 1.0"
            ]
          },
          "metadata": {},
          "execution_count": 13
        }
      ]
    },
    {
      "cell_type": "markdown",
      "source": [
        "## Refining the model with best weights\n"
      ],
      "metadata": {
        "id": "ZPXbQaQzXesB"
      }
    },
    {
      "cell_type": "markdown",
      "source": [
        "### Model 1 (nano, epochs=2, patience=5, batch=8, lr0=0.0005, imgsz=640)"
      ],
      "metadata": {
        "id": "c6pqItqgy03X"
      }
    },
    {
      "cell_type": "code",
      "source": [
        "model = YOLO(\"/content/drive/MyDrive/Colab Notebooks/Computer Vision/runs/classify/train2/weights/best.pt\")"
      ],
      "metadata": {
        "id": "oD_iqoHaVdIo"
      },
      "execution_count": 26,
      "outputs": []
    },
    {
      "cell_type": "markdown",
      "source": [
        "### Model 2 (n, epochs=15,patience=5,batch=8, lr0=0.0005,imgsz=640)"
      ],
      "metadata": {
        "id": "_SOIIOiw63zC"
      }
    },
    {
      "cell_type": "code",
      "source": [
        "model2 = YOLO(\"/content/drive/MyDrive/Colab Notebooks/Computer Vision/runs/classify/train3/weights/best.pt\")"
      ],
      "metadata": {
        "id": "QKxlZWmN69Ib"
      },
      "execution_count": 27,
      "outputs": []
    },
    {
      "cell_type": "markdown",
      "source": [
        "### Model 3 (s, epochs=15,patience=5,batch=8, lr0=0.0005,imgsz=640)"
      ],
      "metadata": {
        "id": "0CcXBqhLAaOH"
      }
    },
    {
      "cell_type": "code",
      "source": [
        "model3 = YOLO(\"/content/drive/MyDrive/Colab Notebooks/Computer Vision/runs/classify/train4/weights/best.pt\")"
      ],
      "metadata": {
        "id": "erxvsuHMAc-v"
      },
      "execution_count": 7,
      "outputs": []
    },
    {
      "cell_type": "markdown",
      "source": [
        "### Model 4 (m, epochs=25,patience=5,batch=8, imgsz=640)"
      ],
      "metadata": {
        "id": "iMXLhEEXHMB8"
      }
    },
    {
      "cell_type": "code",
      "source": [
        "model4 = YOLO(\"/content/drive/MyDrive/Colab Notebooks/Computer Vision/runs/classify/train6/weights/best.pt\")"
      ],
      "metadata": {
        "id": "v1iFS8MKSt04"
      },
      "execution_count": 14,
      "outputs": []
    },
    {
      "cell_type": "markdown",
      "source": [
        "## Evaluation Metrics"
      ],
      "metadata": {
        "id": "nmaNQHDFMJqO"
      }
    },
    {
      "cell_type": "markdown",
      "source": [
        "### Model 1 (nano, epochs=2, patience=5, batch=8, lr0=0.0005, imgsz=640) (val4)"
      ],
      "metadata": {
        "id": "Dw3A8VLmy4oX"
      }
    },
    {
      "cell_type": "code",
      "source": [
        "#MODEL1 (nano, epochs=2, patience=5, batch=8, lr0=0.0005, imgsz=640)\n",
        "#running metrics for model 1\n",
        "metrics1 = model.val()\n",
        "#because we only have 2 classes!\n",
        "metrics1.top1"
      ],
      "metadata": {
        "colab": {
          "base_uri": "https://localhost:8080/"
        },
        "id": "lK2t5a4-tHnC",
        "outputId": "ee4d87f2-da2f-4ed8-b24e-67c04a463ec1"
      },
      "execution_count": 28,
      "outputs": [
        {
          "output_type": "stream",
          "name": "stdout",
          "text": [
            "Ultralytics YOLOv8.1.27 🚀 Python-3.10.12 torch-2.2.1+cu121 CUDA:0 (Tesla T4, 15102MiB)\n",
            "YOLOv8n-cls summary (fused): 73 layers, 1437442 parameters, 0 gradients, 3.3 GFLOPs\n",
            "\u001b[34m\u001b[1mtrain:\u001b[0m /content/drive/MyDrive/Colab Notebooks/Computer Vision/Photos/train... found 42 images in 2 classes ✅ \n",
            "\u001b[34m\u001b[1mval:\u001b[0m /content/drive/MyDrive/Colab Notebooks/Computer Vision/Photos/val... found 40 images in 2 classes ✅ \n",
            "\u001b[34m\u001b[1mtest:\u001b[0m None...\n"
          ]
        },
        {
          "output_type": "stream",
          "name": "stderr",
          "text": [
            "\u001b[34m\u001b[1mval: \u001b[0mScanning /content/drive/MyDrive/Colab Notebooks/Computer Vision/Photos/val... 36 images, 0 corrupt: 100%|██████████| 36/36 [00:00<?, ?it/s]"
          ]
        },
        {
          "output_type": "stream",
          "name": "stdout",
          "text": [
            "\u001b[34m\u001b[1mval: \u001b[0mWARNING ⚠️ /content/drive/MyDrive/Colab Notebooks/Computer Vision/Photos/val/Apples/20240313_135641.jpg: corrupt JPEG restored and saved\n",
            "\u001b[34m\u001b[1mval: \u001b[0mWARNING ⚠️ /content/drive/MyDrive/Colab Notebooks/Computer Vision/Photos/val/Apples/20240313_140215.jpg: corrupt JPEG restored and saved\n",
            "\u001b[34m\u001b[1mval: \u001b[0mWARNING ⚠️ /content/drive/MyDrive/Colab Notebooks/Computer Vision/Photos/val/Apples/20240313_140243.jpg: corrupt JPEG restored and saved\n",
            "\u001b[34m\u001b[1mval: \u001b[0mWARNING ⚠️ /content/drive/MyDrive/Colab Notebooks/Computer Vision/Photos/val/Apples/20240313_140304.jpg: corrupt JPEG restored and saved\n",
            "\u001b[34m\u001b[1mval: \u001b[0mWARNING ⚠️ /content/drive/MyDrive/Colab Notebooks/Computer Vision/Photos/val/Apples/20240313_140314.jpg: corrupt JPEG restored and saved\n",
            "\u001b[34m\u001b[1mval: \u001b[0mWARNING ⚠️ /content/drive/MyDrive/Colab Notebooks/Computer Vision/Photos/val/Apples/20240313_140328.jpg: corrupt JPEG restored and saved\n",
            "\u001b[34m\u001b[1mval: \u001b[0mWARNING ⚠️ /content/drive/MyDrive/Colab Notebooks/Computer Vision/Photos/val/Apples/20240313_140337.jpg: corrupt JPEG restored and saved\n",
            "\u001b[34m\u001b[1mval: \u001b[0mWARNING ⚠️ /content/drive/MyDrive/Colab Notebooks/Computer Vision/Photos/val/Apples/20240313_140356.jpg: corrupt JPEG restored and saved\n",
            "\u001b[34m\u001b[1mval: \u001b[0mWARNING ⚠️ /content/drive/MyDrive/Colab Notebooks/Computer Vision/Photos/val/Apples/20240313_140821.jpg: corrupt JPEG restored and saved\n",
            "\u001b[34m\u001b[1mval: \u001b[0mWARNING ⚠️ /content/drive/MyDrive/Colab Notebooks/Computer Vision/Photos/val/Apples/20240313_140841.jpg: corrupt JPEG restored and saved\n",
            "\u001b[34m\u001b[1mval: \u001b[0mWARNING ⚠️ /content/drive/MyDrive/Colab Notebooks/Computer Vision/Photos/val/Apples/20240313_140905.jpg: corrupt JPEG restored and saved\n",
            "\u001b[34m\u001b[1mval: \u001b[0mWARNING ⚠️ /content/drive/MyDrive/Colab Notebooks/Computer Vision/Photos/val/Apples/20240313_140917.jpg: corrupt JPEG restored and saved\n",
            "\u001b[34m\u001b[1mval: \u001b[0mWARNING ⚠️ /content/drive/MyDrive/Colab Notebooks/Computer Vision/Photos/val/Apples/20240313_141129.jpg: corrupt JPEG restored and saved\n",
            "\u001b[34m\u001b[1mval: \u001b[0mWARNING ⚠️ /content/drive/MyDrive/Colab Notebooks/Computer Vision/Photos/val/Apples/20240313_141145.jpg: corrupt JPEG restored and saved\n",
            "\u001b[34m\u001b[1mval: \u001b[0mWARNING ⚠️ /content/drive/MyDrive/Colab Notebooks/Computer Vision/Photos/val/Apples/20240313_141208.jpg: corrupt JPEG restored and saved\n",
            "\u001b[34m\u001b[1mval: \u001b[0mWARNING ⚠️ /content/drive/MyDrive/Colab Notebooks/Computer Vision/Photos/val/Red Onion/20240313_140418.jpg: corrupt JPEG restored and saved\n",
            "\u001b[34m\u001b[1mval: \u001b[0mWARNING ⚠️ /content/drive/MyDrive/Colab Notebooks/Computer Vision/Photos/val/Red Onion/20240313_140439.jpg: corrupt JPEG restored and saved\n",
            "\u001b[34m\u001b[1mval: \u001b[0mWARNING ⚠️ /content/drive/MyDrive/Colab Notebooks/Computer Vision/Photos/val/Red Onion/20240313_140454.jpg: corrupt JPEG restored and saved\n",
            "\u001b[34m\u001b[1mval: \u001b[0mWARNING ⚠️ /content/drive/MyDrive/Colab Notebooks/Computer Vision/Photos/val/Red Onion/20240313_140609.jpg: corrupt JPEG restored and saved\n",
            "\u001b[34m\u001b[1mval: \u001b[0mWARNING ⚠️ /content/drive/MyDrive/Colab Notebooks/Computer Vision/Photos/val/Red Onion/20240313_141025.jpg: corrupt JPEG restored and saved\n",
            "\u001b[34m\u001b[1mval: \u001b[0mWARNING ⚠️ /content/drive/MyDrive/Colab Notebooks/Computer Vision/Photos/val/Red Onion/20240313_141049.jpg: corrupt JPEG restored and saved\n"
          ]
        },
        {
          "output_type": "stream",
          "name": "stderr",
          "text": [
            "\n",
            "               classes   top1_acc   top5_acc: 100%|██████████| 3/3 [00:19<00:00,  6.55s/it]\n"
          ]
        },
        {
          "output_type": "stream",
          "name": "stdout",
          "text": [
            "                   all      0.639          1\n",
            "Speed: 0.5ms preprocess, 2.7ms inference, 0.0ms loss, 0.0ms postprocess per image\n",
            "Results saved to \u001b[1mruns/classify/val4\u001b[0m\n"
          ]
        },
        {
          "output_type": "execute_result",
          "data": {
            "text/plain": [
              "0.6388888955116272"
            ]
          },
          "metadata": {},
          "execution_count": 28
        }
      ]
    },
    {
      "cell_type": "code",
      "source": [
        "%matplotlib inline\n",
        "from PIL import Image\n",
        "\n",
        "#confusing matrix for train 2 (model 1, nano epochs=2,patience=5,batch=8, lr0=0.0005,imgsz=640)\n",
        "Image.open('/content/drive/MyDrive/Colab Notebooks/Computer Vision/runs/classify/val4/confusion_matrix_normalized.png')"
      ],
      "metadata": {
        "colab": {
          "base_uri": "https://localhost:8080/",
          "height": 1000
        },
        "id": "J-IpKKbEMIZ0",
        "outputId": "bf3aa939-8f90-4d11-9b72-1dd4ec42a4d4"
      },
      "execution_count": 55,
      "outputs": [
        {
          "output_type": "execute_result",
          "data": {
            "text/plain": [
              "<PIL.PngImagePlugin.PngImageFile image mode=RGBA size=3000x2250>"
            ],
            "image/png": "[encoded data removed]"
          },
          "metadata": {},
          "execution_count": 55
        }
      ]
    },
    {
      "cell_type": "markdown",
      "source": [
        "### Model 2 (n, epochs=15,patience=5,batch=8, lr0=0.0005,imgsz=640) (val5)"
      ],
      "metadata": {
        "id": "XuBklwIG7KwU"
      }
    },
    {
      "cell_type": "code",
      "source": [
        "#MODE2 (n, epochs=15,patience=5,batch=8, lr0=0.0005,imgsz=640)\n",
        "\n",
        "metrics2 = model2.val()\n",
        "#because we only have 2 classes!\n",
        "metrics2.top1"
      ],
      "metadata": {
        "colab": {
          "base_uri": "https://localhost:8080/"
        },
        "id": "5Uj_Cd077PJb",
        "outputId": "e432358e-2ce4-42ce-b0d4-1c5e738c6e62"
      },
      "execution_count": 30,
      "outputs": [
        {
          "output_type": "stream",
          "name": "stdout",
          "text": [
            "Ultralytics YOLOv8.1.27 🚀 Python-3.10.12 torch-2.2.1+cu121 CUDA:0 (Tesla T4, 15102MiB)\n",
            "YOLOv8n-cls summary (fused): 73 layers, 1437442 parameters, 0 gradients, 3.3 GFLOPs\n",
            "\u001b[34m\u001b[1mtrain:\u001b[0m /content/drive/MyDrive/Colab Notebooks/Computer Vision/Photos/train... found 42 images in 2 classes ✅ \n",
            "\u001b[34m\u001b[1mval:\u001b[0m /content/drive/MyDrive/Colab Notebooks/Computer Vision/Photos/val... found 40 images in 2 classes ✅ \n",
            "\u001b[34m\u001b[1mtest:\u001b[0m None...\n"
          ]
        },
        {
          "output_type": "stream",
          "name": "stderr",
          "text": [
            "\u001b[34m\u001b[1mval: \u001b[0mScanning /content/drive/MyDrive/Colab Notebooks/Computer Vision/Photos/val... 36 images, 0 corrupt: 100%|██████████| 36/36 [00:00<?, ?it/s]"
          ]
        },
        {
          "output_type": "stream",
          "name": "stdout",
          "text": [
            "\u001b[34m\u001b[1mval: \u001b[0mWARNING ⚠️ /content/drive/MyDrive/Colab Notebooks/Computer Vision/Photos/val/Apples/20240313_135641.jpg: corrupt JPEG restored and saved\n",
            "\u001b[34m\u001b[1mval: \u001b[0mWARNING ⚠️ /content/drive/MyDrive/Colab Notebooks/Computer Vision/Photos/val/Apples/20240313_140215.jpg: corrupt JPEG restored and saved\n",
            "\u001b[34m\u001b[1mval: \u001b[0mWARNING ⚠️ /content/drive/MyDrive/Colab Notebooks/Computer Vision/Photos/val/Apples/20240313_140243.jpg: corrupt JPEG restored and saved\n",
            "\u001b[34m\u001b[1mval: \u001b[0mWARNING ⚠️ /content/drive/MyDrive/Colab Notebooks/Computer Vision/Photos/val/Apples/20240313_140304.jpg: corrupt JPEG restored and saved\n",
            "\u001b[34m\u001b[1mval: \u001b[0mWARNING ⚠️ /content/drive/MyDrive/Colab Notebooks/Computer Vision/Photos/val/Apples/20240313_140314.jpg: corrupt JPEG restored and saved\n",
            "\u001b[34m\u001b[1mval: \u001b[0mWARNING ⚠️ /content/drive/MyDrive/Colab Notebooks/Computer Vision/Photos/val/Apples/20240313_140328.jpg: corrupt JPEG restored and saved\n",
            "\u001b[34m\u001b[1mval: \u001b[0mWARNING ⚠️ /content/drive/MyDrive/Colab Notebooks/Computer Vision/Photos/val/Apples/20240313_140337.jpg: corrupt JPEG restored and saved\n",
            "\u001b[34m\u001b[1mval: \u001b[0mWARNING ⚠️ /content/drive/MyDrive/Colab Notebooks/Computer Vision/Photos/val/Apples/20240313_140356.jpg: corrupt JPEG restored and saved\n",
            "\u001b[34m\u001b[1mval: \u001b[0mWARNING ⚠️ /content/drive/MyDrive/Colab Notebooks/Computer Vision/Photos/val/Apples/20240313_140821.jpg: corrupt JPEG restored and saved\n",
            "\u001b[34m\u001b[1mval: \u001b[0mWARNING ⚠️ /content/drive/MyDrive/Colab Notebooks/Computer Vision/Photos/val/Apples/20240313_140841.jpg: corrupt JPEG restored and saved\n",
            "\u001b[34m\u001b[1mval: \u001b[0mWARNING ⚠️ /content/drive/MyDrive/Colab Notebooks/Computer Vision/Photos/val/Apples/20240313_140905.jpg: corrupt JPEG restored and saved\n",
            "\u001b[34m\u001b[1mval: \u001b[0mWARNING ⚠️ /content/drive/MyDrive/Colab Notebooks/Computer Vision/Photos/val/Apples/20240313_140917.jpg: corrupt JPEG restored and saved\n",
            "\u001b[34m\u001b[1mval: \u001b[0mWARNING ⚠️ /content/drive/MyDrive/Colab Notebooks/Computer Vision/Photos/val/Apples/20240313_141129.jpg: corrupt JPEG restored and saved\n",
            "\u001b[34m\u001b[1mval: \u001b[0mWARNING ⚠️ /content/drive/MyDrive/Colab Notebooks/Computer Vision/Photos/val/Apples/20240313_141145.jpg: corrupt JPEG restored and saved\n",
            "\u001b[34m\u001b[1mval: \u001b[0mWARNING ⚠️ /content/drive/MyDrive/Colab Notebooks/Computer Vision/Photos/val/Apples/20240313_141208.jpg: corrupt JPEG restored and saved\n",
            "\u001b[34m\u001b[1mval: \u001b[0mWARNING ⚠️ /content/drive/MyDrive/Colab Notebooks/Computer Vision/Photos/val/Red Onion/20240313_140418.jpg: corrupt JPEG restored and saved\n",
            "\u001b[34m\u001b[1mval: \u001b[0mWARNING ⚠️ /content/drive/MyDrive/Colab Notebooks/Computer Vision/Photos/val/Red Onion/20240313_140439.jpg: corrupt JPEG restored and saved\n",
            "\u001b[34m\u001b[1mval: \u001b[0mWARNING ⚠️ /content/drive/MyDrive/Colab Notebooks/Computer Vision/Photos/val/Red Onion/20240313_140454.jpg: corrupt JPEG restored and saved\n",
            "\u001b[34m\u001b[1mval: \u001b[0mWARNING ⚠️ /content/drive/MyDrive/Colab Notebooks/Computer Vision/Photos/val/Red Onion/20240313_140609.jpg: corrupt JPEG restored and saved\n",
            "\u001b[34m\u001b[1mval: \u001b[0mWARNING ⚠️ /content/drive/MyDrive/Colab Notebooks/Computer Vision/Photos/val/Red Onion/20240313_141025.jpg: corrupt JPEG restored and saved\n",
            "\u001b[34m\u001b[1mval: \u001b[0mWARNING ⚠️ /content/drive/MyDrive/Colab Notebooks/Computer Vision/Photos/val/Red Onion/20240313_141049.jpg: corrupt JPEG restored and saved\n"
          ]
        },
        {
          "output_type": "stream",
          "name": "stderr",
          "text": [
            "\n",
            "               classes   top1_acc   top5_acc: 100%|██████████| 3/3 [00:25<00:00,  8.56s/it]\n"
          ]
        },
        {
          "output_type": "stream",
          "name": "stdout",
          "text": [
            "                   all      0.889          1\n",
            "Speed: 0.7ms preprocess, 2.5ms inference, 0.0ms loss, 0.0ms postprocess per image\n",
            "Results saved to \u001b[1mruns/classify/val5\u001b[0m\n"
          ]
        },
        {
          "output_type": "execute_result",
          "data": {
            "text/plain": [
              "0.8888888955116272"
            ]
          },
          "metadata": {},
          "execution_count": 30
        }
      ]
    },
    {
      "cell_type": "code",
      "source": [
        "%matplotlib inline\n",
        "from PIL import Image\n",
        "\n",
        "#confusing matrix for train 3 (model 2, nano epochs=15,patience=5,batch=8, lr0=0.0005,imgsz=640)\n",
        "Image.open('/content/drive/MyDrive/Colab Notebooks/Computer Vision/runs/classify/val5/confusion_matrix_normalized.png')"
      ],
      "metadata": {
        "colab": {
          "base_uri": "https://localhost:8080/",
          "height": 1000
        },
        "id": "bv6rw4bv7c4T",
        "outputId": "9668a79c-144e-4326-b089-f3026364e08a"
      },
      "execution_count": 56,
      "outputs": [
        {
          "output_type": "execute_result",
          "data": {
            "text/plain": [
              "<PIL.PngImagePlugin.PngImageFile image mode=RGBA size=3000x2250>"
            ],
            "image/png": "[encoded data removed]"
          },
          "metadata": {},
          "execution_count": 56
        }
      ]
    },
    {
      "cell_type": "markdown",
      "source": [
        "### Model 3 (s, epochs=15,patience=5,batch=8, lr0=0.0005,imgsz=640) (val8)"
      ],
      "metadata": {
        "id": "tY62xRrgAi4J"
      }
    },
    {
      "cell_type": "code",
      "source": [
        "#MODEL3 (s, epochs=15,patience=5,batch=8, lr0=0.0005,imgsz=640)\n",
        "\n",
        "metrics3 = model3.val()\n",
        "#because we only have 2 classes!\n",
        "metrics3.top1"
      ],
      "metadata": {
        "colab": {
          "base_uri": "https://localhost:8080/"
        },
        "id": "nR-5sxwAAnGP",
        "outputId": "30da1328-964e-4feb-f681-87b2fa49c773"
      },
      "execution_count": 53,
      "outputs": [
        {
          "output_type": "stream",
          "name": "stdout",
          "text": [
            "Ultralytics YOLOv8.1.27 🚀 Python-3.10.12 torch-2.2.1+cu121 CUDA:0 (Tesla T4, 15102MiB)\n",
            "\u001b[34m\u001b[1mtrain:\u001b[0m /content/drive/MyDrive/Colab Notebooks/Computer Vision/Photos/train... found 42 images in 2 classes ✅ \n",
            "\u001b[34m\u001b[1mval:\u001b[0m /content/drive/MyDrive/Colab Notebooks/Computer Vision/Photos/val... found 40 images in 2 classes ✅ \n",
            "\u001b[34m\u001b[1mtest:\u001b[0m None...\n"
          ]
        },
        {
          "output_type": "stream",
          "name": "stderr",
          "text": [
            "\u001b[34m\u001b[1mval: \u001b[0mScanning /content/drive/MyDrive/Colab Notebooks/Computer Vision/Photos/val... 36 images, 0 corrupt: 100%|██████████| 36/36 [00:00<?, ?it/s]"
          ]
        },
        {
          "output_type": "stream",
          "name": "stdout",
          "text": [
            "\u001b[34m\u001b[1mval: \u001b[0mWARNING ⚠️ /content/drive/MyDrive/Colab Notebooks/Computer Vision/Photos/val/Apples/20240313_135641.jpg: corrupt JPEG restored and saved\n",
            "\u001b[34m\u001b[1mval: \u001b[0mWARNING ⚠️ /content/drive/MyDrive/Colab Notebooks/Computer Vision/Photos/val/Apples/20240313_140215.jpg: corrupt JPEG restored and saved\n",
            "\u001b[34m\u001b[1mval: \u001b[0mWARNING ⚠️ /content/drive/MyDrive/Colab Notebooks/Computer Vision/Photos/val/Apples/20240313_140243.jpg: corrupt JPEG restored and saved\n",
            "\u001b[34m\u001b[1mval: \u001b[0mWARNING ⚠️ /content/drive/MyDrive/Colab Notebooks/Computer Vision/Photos/val/Apples/20240313_140304.jpg: corrupt JPEG restored and saved\n",
            "\u001b[34m\u001b[1mval: \u001b[0mWARNING ⚠️ /content/drive/MyDrive/Colab Notebooks/Computer Vision/Photos/val/Apples/20240313_140314.jpg: corrupt JPEG restored and saved\n",
            "\u001b[34m\u001b[1mval: \u001b[0mWARNING ⚠️ /content/drive/MyDrive/Colab Notebooks/Computer Vision/Photos/val/Apples/20240313_140328.jpg: corrupt JPEG restored and saved\n",
            "\u001b[34m\u001b[1mval: \u001b[0mWARNING ⚠️ /content/drive/MyDrive/Colab Notebooks/Computer Vision/Photos/val/Apples/20240313_140337.jpg: corrupt JPEG restored and saved\n",
            "\u001b[34m\u001b[1mval: \u001b[0mWARNING ⚠️ /content/drive/MyDrive/Colab Notebooks/Computer Vision/Photos/val/Apples/20240313_140356.jpg: corrupt JPEG restored and saved\n",
            "\u001b[34m\u001b[1mval: \u001b[0mWARNING ⚠️ /content/drive/MyDrive/Colab Notebooks/Computer Vision/Photos/val/Apples/20240313_140821.jpg: corrupt JPEG restored and saved\n",
            "\u001b[34m\u001b[1mval: \u001b[0mWARNING ⚠️ /content/drive/MyDrive/Colab Notebooks/Computer Vision/Photos/val/Apples/20240313_140841.jpg: corrupt JPEG restored and saved\n",
            "\u001b[34m\u001b[1mval: \u001b[0mWARNING ⚠️ /content/drive/MyDrive/Colab Notebooks/Computer Vision/Photos/val/Apples/20240313_140905.jpg: corrupt JPEG restored and saved\n",
            "\u001b[34m\u001b[1mval: \u001b[0mWARNING ⚠️ /content/drive/MyDrive/Colab Notebooks/Computer Vision/Photos/val/Apples/20240313_140917.jpg: corrupt JPEG restored and saved\n",
            "\u001b[34m\u001b[1mval: \u001b[0mWARNING ⚠️ /content/drive/MyDrive/Colab Notebooks/Computer Vision/Photos/val/Apples/20240313_141129.jpg: corrupt JPEG restored and saved\n",
            "\u001b[34m\u001b[1mval: \u001b[0mWARNING ⚠️ /content/drive/MyDrive/Colab Notebooks/Computer Vision/Photos/val/Apples/20240313_141145.jpg: corrupt JPEG restored and saved\n",
            "\u001b[34m\u001b[1mval: \u001b[0mWARNING ⚠️ /content/drive/MyDrive/Colab Notebooks/Computer Vision/Photos/val/Apples/20240313_141208.jpg: corrupt JPEG restored and saved\n",
            "\u001b[34m\u001b[1mval: \u001b[0mWARNING ⚠️ /content/drive/MyDrive/Colab Notebooks/Computer Vision/Photos/val/Red Onion/20240313_140418.jpg: corrupt JPEG restored and saved\n",
            "\u001b[34m\u001b[1mval: \u001b[0mWARNING ⚠️ /content/drive/MyDrive/Colab Notebooks/Computer Vision/Photos/val/Red Onion/20240313_140439.jpg: corrupt JPEG restored and saved\n",
            "\u001b[34m\u001b[1mval: \u001b[0mWARNING ⚠️ /content/drive/MyDrive/Colab Notebooks/Computer Vision/Photos/val/Red Onion/20240313_140454.jpg: corrupt JPEG restored and saved\n",
            "\u001b[34m\u001b[1mval: \u001b[0mWARNING ⚠️ /content/drive/MyDrive/Colab Notebooks/Computer Vision/Photos/val/Red Onion/20240313_140609.jpg: corrupt JPEG restored and saved\n",
            "\u001b[34m\u001b[1mval: \u001b[0mWARNING ⚠️ /content/drive/MyDrive/Colab Notebooks/Computer Vision/Photos/val/Red Onion/20240313_141025.jpg: corrupt JPEG restored and saved\n",
            "\u001b[34m\u001b[1mval: \u001b[0mWARNING ⚠️ /content/drive/MyDrive/Colab Notebooks/Computer Vision/Photos/val/Red Onion/20240313_141049.jpg: corrupt JPEG restored and saved\n"
          ]
        },
        {
          "output_type": "stream",
          "name": "stderr",
          "text": [
            "\n",
            "               classes   top1_acc   top5_acc: 100%|██████████| 3/3 [00:49<00:00, 16.45s/it]\n"
          ]
        },
        {
          "output_type": "stream",
          "name": "stdout",
          "text": [
            "                   all      0.889          1\n",
            "Speed: 0.5ms preprocess, 6.3ms inference, 0.0ms loss, 0.0ms postprocess per image\n",
            "Results saved to \u001b[1mruns/classify/val8\u001b[0m\n"
          ]
        },
        {
          "output_type": "execute_result",
          "data": {
            "text/plain": [
              "<ultralytics.utils.metrics.ConfusionMatrix at 0x7c21a56c8fa0>"
            ]
          },
          "metadata": {},
          "execution_count": 53
        }
      ]
    },
    {
      "cell_type": "code",
      "source": [
        "%matplotlib inline\n",
        "from PIL import Image\n",
        "\n",
        "#confusing matrix for train 2 (model 3, s, epochs=15,patience=5,batch=8, lr0=0.0005,imgsz=640)\n",
        "Image.open('/content/drive/MyDrive/Colab Notebooks/Computer Vision/runs/classify/val8/confusion_matrix_normalized.png')"
      ],
      "metadata": {
        "colab": {
          "base_uri": "https://localhost:8080/",
          "height": 1000
        },
        "id": "JQWmakpnApcO",
        "outputId": "47f4dc20-499c-4b96-9106-2ab3a8f08ad5"
      },
      "execution_count": 54,
      "outputs": [
        {
          "output_type": "execute_result",
          "data": {
            "text/plain": [
              "<PIL.PngImagePlugin.PngImageFile image mode=RGBA size=3000x2250>"
            ],
            "image/png": "[encoded data removed]"
          },
          "metadata": {},
          "execution_count": 54
        }
      ]
    },
    {
      "cell_type": "markdown",
      "source": [
        "### Model 4 (m, epochs=25,patience=5,batch=8, imgsz=640) (val9)"
      ],
      "metadata": {
        "id": "-hPW0QQiHNyf"
      }
    },
    {
      "cell_type": "code",
      "source": [
        "#https://www.geeksforgeeks.org/confusion-matrix-machine-learning/\n",
        "\n",
        "#MODEL4 (m, epochs=25,patience=5,batch=8, imgsz=640)\n",
        "\n",
        "metrics4 = model4.val()\n",
        "#because we only have 2 classes!\n",
        "metrics4.top1"
      ],
      "metadata": {
        "colab": {
          "base_uri": "https://localhost:8080/"
        },
        "id": "pwoQOpzRQm7e",
        "outputId": "059eb0d3-d861-491e-a052-7207c70c8e32"
      },
      "execution_count": 15,
      "outputs": [
        {
          "output_type": "stream",
          "name": "stdout",
          "text": [
            "Ultralytics YOLOv8.1.27 🚀 Python-3.10.12 torch-2.2.1+cu121 CPU (Intel Xeon 2.20GHz)\n",
            "YOLOv8m-cls summary (fused): 103 layers, 15765218 parameters, 0 gradients, 41.6 GFLOPs\n",
            "\u001b[34m\u001b[1mtrain:\u001b[0m /content/drive/MyDrive/Colab Notebooks/Computer Vision/Photos/train... found 42 images in 2 classes ✅ \n",
            "\u001b[34m\u001b[1mval:\u001b[0m /content/drive/MyDrive/Colab Notebooks/Computer Vision/Photos/val... found 40 images in 2 classes ✅ \n",
            "\u001b[34m\u001b[1mtest:\u001b[0m None...\n"
          ]
        },
        {
          "output_type": "stream",
          "name": "stderr",
          "text": [
            "\u001b[34m\u001b[1mval: \u001b[0mScanning /content/drive/MyDrive/Colab Notebooks/Computer Vision/Photos/val... 36 images, 0 corrupt: 100%|██████████| 36/36 [00:00<?, ?it/s]"
          ]
        },
        {
          "output_type": "stream",
          "name": "stdout",
          "text": [
            "\u001b[34m\u001b[1mval: \u001b[0mWARNING ⚠️ /content/drive/MyDrive/Colab Notebooks/Computer Vision/Photos/val/Apples/20240313_135641.jpg: corrupt JPEG restored and saved\n",
            "\u001b[34m\u001b[1mval: \u001b[0mWARNING ⚠️ /content/drive/MyDrive/Colab Notebooks/Computer Vision/Photos/val/Apples/20240313_140215.jpg: corrupt JPEG restored and saved\n",
            "\u001b[34m\u001b[1mval: \u001b[0mWARNING ⚠️ /content/drive/MyDrive/Colab Notebooks/Computer Vision/Photos/val/Apples/20240313_140243.jpg: corrupt JPEG restored and saved\n",
            "\u001b[34m\u001b[1mval: \u001b[0mWARNING ⚠️ /content/drive/MyDrive/Colab Notebooks/Computer Vision/Photos/val/Apples/20240313_140304.jpg: corrupt JPEG restored and saved\n",
            "\u001b[34m\u001b[1mval: \u001b[0mWARNING ⚠️ /content/drive/MyDrive/Colab Notebooks/Computer Vision/Photos/val/Apples/20240313_140314.jpg: corrupt JPEG restored and saved\n",
            "\u001b[34m\u001b[1mval: \u001b[0mWARNING ⚠️ /content/drive/MyDrive/Colab Notebooks/Computer Vision/Photos/val/Apples/20240313_140328.jpg: corrupt JPEG restored and saved\n",
            "\u001b[34m\u001b[1mval: \u001b[0mWARNING ⚠️ /content/drive/MyDrive/Colab Notebooks/Computer Vision/Photos/val/Apples/20240313_140337.jpg: corrupt JPEG restored and saved\n",
            "\u001b[34m\u001b[1mval: \u001b[0mWARNING ⚠️ /content/drive/MyDrive/Colab Notebooks/Computer Vision/Photos/val/Apples/20240313_140356.jpg: corrupt JPEG restored and saved\n",
            "\u001b[34m\u001b[1mval: \u001b[0mWARNING ⚠️ /content/drive/MyDrive/Colab Notebooks/Computer Vision/Photos/val/Apples/20240313_140821.jpg: corrupt JPEG restored and saved\n",
            "\u001b[34m\u001b[1mval: \u001b[0mWARNING ⚠️ /content/drive/MyDrive/Colab Notebooks/Computer Vision/Photos/val/Apples/20240313_140841.jpg: corrupt JPEG restored and saved\n",
            "\u001b[34m\u001b[1mval: \u001b[0mWARNING ⚠️ /content/drive/MyDrive/Colab Notebooks/Computer Vision/Photos/val/Apples/20240313_140905.jpg: corrupt JPEG restored and saved\n",
            "\u001b[34m\u001b[1mval: \u001b[0mWARNING ⚠️ /content/drive/MyDrive/Colab Notebooks/Computer Vision/Photos/val/Apples/20240313_140917.jpg: corrupt JPEG restored and saved\n",
            "\u001b[34m\u001b[1mval: \u001b[0mWARNING ⚠️ /content/drive/MyDrive/Colab Notebooks/Computer Vision/Photos/val/Apples/20240313_141129.jpg: corrupt JPEG restored and saved\n",
            "\u001b[34m\u001b[1mval: \u001b[0mWARNING ⚠️ /content/drive/MyDrive/Colab Notebooks/Computer Vision/Photos/val/Apples/20240313_141145.jpg: corrupt JPEG restored and saved\n",
            "\u001b[34m\u001b[1mval: \u001b[0mWARNING ⚠️ /content/drive/MyDrive/Colab Notebooks/Computer Vision/Photos/val/Apples/20240313_141208.jpg: corrupt JPEG restored and saved\n",
            "\u001b[34m\u001b[1mval: \u001b[0mWARNING ⚠️ /content/drive/MyDrive/Colab Notebooks/Computer Vision/Photos/val/Red Onion/20240313_140418.jpg: corrupt JPEG restored and saved\n",
            "\u001b[34m\u001b[1mval: \u001b[0mWARNING ⚠️ /content/drive/MyDrive/Colab Notebooks/Computer Vision/Photos/val/Red Onion/20240313_140439.jpg: corrupt JPEG restored and saved\n",
            "\u001b[34m\u001b[1mval: \u001b[0mWARNING ⚠️ /content/drive/MyDrive/Colab Notebooks/Computer Vision/Photos/val/Red Onion/20240313_140454.jpg: corrupt JPEG restored and saved\n",
            "\u001b[34m\u001b[1mval: \u001b[0mWARNING ⚠️ /content/drive/MyDrive/Colab Notebooks/Computer Vision/Photos/val/Red Onion/20240313_140609.jpg: corrupt JPEG restored and saved\n",
            "\u001b[34m\u001b[1mval: \u001b[0mWARNING ⚠️ /content/drive/MyDrive/Colab Notebooks/Computer Vision/Photos/val/Red Onion/20240313_141025.jpg: corrupt JPEG restored and saved\n",
            "\u001b[34m\u001b[1mval: \u001b[0mWARNING ⚠️ /content/drive/MyDrive/Colab Notebooks/Computer Vision/Photos/val/Red Onion/20240313_141049.jpg: corrupt JPEG restored and saved\n"
          ]
        },
        {
          "output_type": "stream",
          "name": "stderr",
          "text": [
            "\n",
            "               classes   top1_acc   top5_acc: 100%|██████████| 3/3 [00:52<00:00, 17.42s/it]\n"
          ]
        },
        {
          "output_type": "stream",
          "name": "stdout",
          "text": [
            "                   all          1          1\n",
            "Speed: 0.0ms preprocess, 889.0ms inference, 0.0ms loss, 0.0ms postprocess per image\n",
            "Results saved to \u001b[1mruns/classify/val9\u001b[0m\n"
          ]
        },
        {
          "output_type": "execute_result",
          "data": {
            "text/plain": [
              "1.0"
            ]
          },
          "metadata": {},
          "execution_count": 15
        }
      ]
    },
    {
      "cell_type": "markdown",
      "source": [
        "##Prediction"
      ],
      "metadata": {
        "id": "f1DiEK1fcziv"
      }
    },
    {
      "cell_type": "markdown",
      "source": [
        "Testing the model with a  random one off image"
      ],
      "metadata": {
        "id": "OAg7m1sKYJAx"
      }
    },
    {
      "cell_type": "code",
      "source": [
        "model.names"
      ],
      "metadata": {
        "colab": {
          "base_uri": "https://localhost:8080/"
        },
        "id": "J9FV0Gqt21uT",
        "outputId": "adf12f43-7367-4137-e112-29f40bd08ac7"
      },
      "execution_count": 20,
      "outputs": [
        {
          "output_type": "execute_result",
          "data": {
            "text/plain": [
              "{0: 'Apples', 1: 'Red Onion'}"
            ]
          },
          "metadata": {},
          "execution_count": 20
        }
      ]
    },
    {
      "cell_type": "markdown",
      "source": [
        "### Model 1 (nano, epochs=2, patience=5, batch=8, lr0=0.0005, imgsz=640) (predict3 folder)"
      ],
      "metadata": {
        "id": "L_Mh_cBry6E_"
      }
    },
    {
      "cell_type": "code",
      "source": [
        "#model 1 (nano, epochs=2, patience=5, batch=8, lr0=0.0005, imgsz=640)\n",
        "results = model('https://github.com/merfurfu/Computer-Vision-Project/blob/vic_work/predict1.jpg', save=True)\n",
        "\n",
        "for r in results:\n",
        "  print(r.probs)\n",
        "\n",
        "#this model predicted apples, this image is red onion (WRONG) (Apples 0.61, Red Onion 0.39, 8.8ms)"
      ],
      "metadata": {
        "colab": {
          "base_uri": "https://localhost:8080/"
        },
        "id": "V3T_Ahl2avFK",
        "outputId": "1951091f-2f90-4b05-d72d-313c667950c1"
      },
      "execution_count": 39,
      "outputs": [
        {
          "output_type": "stream",
          "name": "stdout",
          "text": [
            "\n",
            "Found https://github.com/merfurfu/Computer-Vision-Project/blob/vic_work/predict1.jpg locally at predict1.jpg\n",
            "image 1/1 /content/drive/MyDrive/Colab Notebooks/Computer Vision/predict1.jpg: 640x640 Apples 0.61, Red Onion 0.39, 8.8ms\n",
            "Speed: 1154.4ms preprocess, 8.8ms inference, 0.1ms postprocess per image at shape (1, 3, 640, 640)\n",
            "Results saved to \u001b[1mruns/classify/predict3\u001b[0m\n",
            "ultralytics.engine.results.Probs object with attributes:\n",
            "\n",
            "data: tensor([0.6062, 0.3938], device='cuda:0')\n",
            "orig_shape: None\n",
            "shape: torch.Size([2])\n",
            "top1: 0\n",
            "top1conf: tensor(0.6062, device='cuda:0')\n",
            "top5: [0, 1]\n",
            "top5conf: tensor([0.6062, 0.3938], device='cuda:0')\n"
          ]
        }
      ]
    },
    {
      "cell_type": "code",
      "source": [
        "results = model('/content/drive/MyDrive/Colab Notebooks/Computer Vision/prediction3.jpg', save=True)\n",
        "\n",
        "for r in results:\n",
        "  print(r.probs)\n",
        "\n",
        "#this model predicted apples (CORRECT) (Apples 0.54, Red Onion 0.46, 4.2ms)"
      ],
      "metadata": {
        "colab": {
          "base_uri": "https://localhost:8080/"
        },
        "id": "WrSMfh4q9Iu9",
        "outputId": "b00324b1-fafe-4d34-b4d6-afc8a162c49c"
      },
      "execution_count": 42,
      "outputs": [
        {
          "output_type": "stream",
          "name": "stdout",
          "text": [
            "\n",
            "image 1/1 /content/drive/MyDrive/Colab Notebooks/Computer Vision/prediction3.jpg: 640x640 Apples 0.54, Red Onion 0.46, 4.2ms\n",
            "Speed: 111.6ms preprocess, 4.2ms inference, 0.1ms postprocess per image at shape (1, 3, 640, 640)\n",
            "Results saved to \u001b[1mruns/classify/predict3\u001b[0m\n",
            "ultralytics.engine.results.Probs object with attributes:\n",
            "\n",
            "data: tensor([0.5445, 0.4555], device='cuda:0')\n",
            "orig_shape: None\n",
            "shape: torch.Size([2])\n",
            "top1: 0\n",
            "top1conf: tensor(0.5445, device='cuda:0')\n",
            "top5: [0, 1]\n",
            "top5conf: tensor([0.5445, 0.4555], device='cuda:0')\n"
          ]
        }
      ]
    },
    {
      "cell_type": "markdown",
      "source": [
        "### Model 2 (n, epochs=15,patience=5,batch=8, lr0=0.0005,imgsz=640) (predict2 folder)"
      ],
      "metadata": {
        "id": "-g5gWdMs70zr"
      }
    },
    {
      "cell_type": "code",
      "source": [
        "#model 2 (n, epochs=15,patience=5,batch=8, lr0=0.0005,imgsz=640)\n",
        "results = model2('https://github.com/merfurfu/Computer-Vision-Project/blob/vic_work/predict1.jpg', save=True)\n",
        "\n",
        "for r in results:\n",
        "  print(r.probs)\n",
        "#predicted it as apple again (INCORRECT)(Apples 0.69, Red Onion 0.31)"
      ],
      "metadata": {
        "colab": {
          "base_uri": "https://localhost:8080/"
        },
        "id": "Ww7ufRc599qM",
        "outputId": "a4cfd499-78a7-4edd-b467-29825180520b"
      },
      "execution_count": 43,
      "outputs": [
        {
          "output_type": "stream",
          "name": "stdout",
          "text": [
            "\n",
            "Found https://github.com/merfurfu/Computer-Vision-Project/blob/vic_work/predict1.jpg locally at predict1.jpg\n",
            "image 1/1 /content/drive/MyDrive/Colab Notebooks/Computer Vision/predict1.jpg: 640x640 Apples 0.69, Red Onion 0.31, 4.1ms\n",
            "Speed: 1997.5ms preprocess, 4.1ms inference, 0.1ms postprocess per image at shape (1, 3, 640, 640)\n",
            "Results saved to \u001b[1mruns/classify/predict2\u001b[0m\n",
            "ultralytics.engine.results.Probs object with attributes:\n",
            "\n",
            "data: tensor([0.6912, 0.3088], device='cuda:0')\n",
            "orig_shape: None\n",
            "shape: torch.Size([2])\n",
            "top1: 0\n",
            "top1conf: tensor(0.6912, device='cuda:0')\n",
            "top5: [0, 1]\n",
            "top5conf: tensor([0.6912, 0.3088], device='cuda:0')\n"
          ]
        }
      ]
    },
    {
      "cell_type": "code",
      "source": [
        "#model 2 (n, epochs=15,patience=5,batch=8, lr0=0.0005,imgsz=640)\n",
        "results2 = model2('/content/drive/MyDrive/Colab Notebooks/Computer Vision/prediction3.jpg', save=True)\n",
        "\n",
        "for r in results:\n",
        "  print(r.probs)\n",
        " #model predicted apple which is correct (Apples 0.55, Red Onion 0.45, 4.1ms)"
      ],
      "metadata": {
        "colab": {
          "base_uri": "https://localhost:8080/"
        },
        "id": "mZptypq52uYz",
        "outputId": "08d66faf-3dcb-4f48-8da7-82662c57ea47"
      },
      "execution_count": 38,
      "outputs": [
        {
          "output_type": "stream",
          "name": "stdout",
          "text": [
            "\n",
            "Found https://github.com/merfurfu/Computer-Vision-Project/blob/vic_work/predict3.jpg locally at predict3.jpg\n",
            "image 1/1 /content/drive/MyDrive/Colab Notebooks/Computer Vision/predict3.jpg: 640x640 Apples 0.55, Red Onion 0.45, 4.1ms\n",
            "Speed: 100.6ms preprocess, 4.1ms inference, 0.1ms postprocess per image at shape (1, 3, 640, 640)\n",
            "Results saved to \u001b[1mruns/classify/predict2\u001b[0m\n",
            "ultralytics.engine.results.Probs object with attributes:\n",
            "\n",
            "data: tensor([0.5751, 0.4249], device='cuda:0')\n",
            "orig_shape: None\n",
            "shape: torch.Size([2])\n",
            "top1: 0\n",
            "top1conf: tensor(0.5751, device='cuda:0')\n",
            "top5: [0, 1]\n",
            "top5conf: tensor([0.5751, 0.4249], device='cuda:0')\n"
          ]
        }
      ]
    },
    {
      "cell_type": "markdown",
      "source": [
        "### Model 3 (s, epochs=15,patience=5,batch=8, lr0=0.0005,imgsz=640) (predict4)"
      ],
      "metadata": {
        "id": "tIUxfJcnF8Nt"
      }
    },
    {
      "cell_type": "code",
      "source": [
        "#Model 3 (s, epochs=15,patience=5,batch=8, lr0=0.0005,imgsz=640)\n",
        "results = model3('https://github.com/merfurfu/Computer-Vision-Project/blob/vic_work/predict1.jpg', save=True)\n",
        "\n",
        "for r in results:\n",
        "  print(r.probs)\n",
        "#predicted it as apple again!!!!!!!!!!!(INCORRECT)(Apples 0.64, Red Onion 0.36)"
      ],
      "metadata": {
        "colab": {
          "base_uri": "https://localhost:8080/"
        },
        "id": "9XivVP8HF9-F",
        "outputId": "ae94f232-e429-4774-d192-cfadd11d0599"
      },
      "execution_count": 8,
      "outputs": [
        {
          "output_type": "stream",
          "name": "stdout",
          "text": [
            "\n",
            "Found https://github.com/merfurfu/Computer-Vision-Project/blob/vic_work/predict1.jpg locally at predict1.jpg\n",
            "Downloading https://ultralytics.com/assets/Arial.ttf to '/root/.config/Ultralytics/Arial.ttf'...\n"
          ]
        },
        {
          "output_type": "stream",
          "name": "stderr",
          "text": [
            "100%|██████████| 755k/755k [00:00<00:00, 17.4MB/s]\n"
          ]
        },
        {
          "output_type": "stream",
          "name": "stdout",
          "text": [
            "image 1/1 /content/drive/MyDrive/Colab Notebooks/Computer Vision/predict1.jpg: 640x640 Apples 0.64, Red Onion 0.36, 427.0ms\n",
            "Speed: 313.5ms preprocess, 427.0ms inference, 0.1ms postprocess per image at shape (1, 3, 640, 640)\n",
            "Results saved to \u001b[1mruns/classify/predict4\u001b[0m\n",
            "ultralytics.engine.results.Probs object with attributes:\n",
            "\n",
            "data: tensor([0.6449, 0.3551])\n",
            "orig_shape: None\n",
            "shape: torch.Size([2])\n",
            "top1: 0\n",
            "top1conf: tensor(0.6449)\n",
            "top5: [0, 1]\n",
            "top5conf: tensor([0.6449, 0.3551])\n"
          ]
        }
      ]
    },
    {
      "cell_type": "code",
      "source": [
        "results = model3('/content/drive/MyDrive/Colab Notebooks/Computer Vision/prediction3.jpg', save=True)\n",
        "\n",
        "for r in results:\n",
        "  print(r.probs)\n",
        "#predicted it as apple again!!!!!!!!!!!(INCORRECT)(Apples 0.52, Red Onion 0.48)"
      ],
      "metadata": {
        "colab": {
          "base_uri": "https://localhost:8080/"
        },
        "id": "t_JxfCnqGG4d",
        "outputId": "467c956a-a21f-4f88-f8c7-0d3f43331168"
      },
      "execution_count": 10,
      "outputs": [
        {
          "output_type": "stream",
          "name": "stdout",
          "text": [
            "\n",
            "image 1/1 /content/drive/MyDrive/Colab Notebooks/Computer Vision/prediction3.jpg: 640x640 Apples 0.52, Red Onion 0.48, 303.2ms\n",
            "Speed: 214.0ms preprocess, 303.2ms inference, 0.1ms postprocess per image at shape (1, 3, 640, 640)\n",
            "Results saved to \u001b[1mruns/classify/predict4\u001b[0m\n",
            "ultralytics.engine.results.Probs object with attributes:\n",
            "\n",
            "data: tensor([0.5192, 0.4808])\n",
            "orig_shape: None\n",
            "shape: torch.Size([2])\n",
            "top1: 0\n",
            "top1conf: tensor(0.5192)\n",
            "top5: [0, 1]\n",
            "top5conf: tensor([0.5192, 0.4808])\n"
          ]
        }
      ]
    },
    {
      "cell_type": "markdown",
      "source": [
        "### Model 4 (m, epochs=25,patience=5,batch=8, imgsz=640)"
      ],
      "metadata": {
        "id": "UG2_3jLCHYfX"
      }
    },
    {
      "cell_type": "code",
      "source": [
        "#Model 4 (m, epochs=100,patience=5,batch=8, imgsz=640)\n",
        "results = model4('https://github.com/merfurfu/Computer-Vision-Project/blob/vic_work/predict1.jpg', save=True)\n",
        "\n",
        "for r in results:\n",
        "  print(r.probs)\n",
        "\n",
        "#also incorrect(Apples 0.65, Red Onion 0.35)"
      ],
      "metadata": {
        "colab": {
          "base_uri": "https://localhost:8080/"
        },
        "id": "rUnu_gLIS8K3",
        "outputId": "9f0a7fbb-10aa-404a-c757-163e09343f45"
      },
      "execution_count": 16,
      "outputs": [
        {
          "output_type": "stream",
          "name": "stdout",
          "text": [
            "\n",
            "Found https://github.com/merfurfu/Computer-Vision-Project/blob/vic_work/predict1.jpg locally at predict1.jpg\n",
            "image 1/1 /content/drive/MyDrive/Colab Notebooks/Computer Vision/predict1.jpg: 640x640 Apples 0.65, Red Onion 0.35, 1315.6ms\n",
            "Speed: 170.2ms preprocess, 1315.6ms inference, 0.1ms postprocess per image at shape (1, 3, 640, 640)\n",
            "Results saved to \u001b[1mruns/classify/predict5\u001b[0m\n",
            "ultralytics.engine.results.Probs object with attributes:\n",
            "\n",
            "data: tensor([0.6468, 0.3532])\n",
            "orig_shape: None\n",
            "shape: torch.Size([2])\n",
            "top1: 0\n",
            "top1conf: tensor(0.6468)\n",
            "top5: [0, 1]\n",
            "top5conf: tensor([0.6468, 0.3532])\n"
          ]
        }
      ]
    },
    {
      "cell_type": "code",
      "source": [
        "results = model4('/content/drive/MyDrive/Colab Notebooks/Computer Vision/prediction3.jpg', save=True)\n",
        "\n",
        "for r in results:\n",
        "  print(r.probs)\n",
        "\n",
        "#predicted it as apples but barely (Apples 0.50, Red Onion 0.50)"
      ],
      "metadata": {
        "colab": {
          "base_uri": "https://localhost:8080/"
        },
        "id": "k6mT3scLXz87",
        "outputId": "e4605598-0d46-4e67-d40c-0574ce34d05d"
      },
      "execution_count": 17,
      "outputs": [
        {
          "output_type": "stream",
          "name": "stdout",
          "text": [
            "\n",
            "image 1/1 /content/drive/MyDrive/Colab Notebooks/Computer Vision/prediction3.jpg: 640x640 Apples 0.50, Red Onion 0.50, 812.7ms\n",
            "Speed: 180.3ms preprocess, 812.7ms inference, 0.1ms postprocess per image at shape (1, 3, 640, 640)\n",
            "Results saved to \u001b[1mruns/classify/predict5\u001b[0m\n",
            "ultralytics.engine.results.Probs object with attributes:\n",
            "\n",
            "data: tensor([0.5045, 0.4955])\n",
            "orig_shape: None\n",
            "shape: torch.Size([2])\n",
            "top1: 0\n",
            "top1conf: tensor(0.5045)\n",
            "top5: [0, 1]\n",
            "top5conf: tensor([0.5045, 0.4955])\n"
          ]
        }
      ]
    }
  ]
}